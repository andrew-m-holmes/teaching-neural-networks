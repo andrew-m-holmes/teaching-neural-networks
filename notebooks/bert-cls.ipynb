{
 "cells": [
  {
   "cell_type": "code",
   "execution_count": 1,
   "id": "36bda9a1-6884-4b87-b7da-55277b1cb170",
   "metadata": {},
   "outputs": [],
   "source": [
    "import numpy as np\n",
    "import tnn\n",
    "import torch\n",
    "import torch.nn as nn\n",
    "import torch.utils.data as data\n",
    "import logging\n",
    "\n",
    "from torch.optim.lr_scheduler import ReduceLROnPlateau\n",
    "from datasets import load_dataset, concatenate_datasets\n",
    "from transformers import BertTokenizer\n",
    "\n",
    "device = (\n",
    "    \"cuda\"\n",
    "    if torch.cuda.is_available()\n",
    "    else \"mps\" if torch.backends.mps.is_available() else \"cpu\"\n",
    ")\n",
    "\n",
    "loggers = [logging.getLogger(name) for name in logging.root.manager.loggerDict]\n",
    "for logger in loggers:\n",
    "    if \"transformers\" in logger.name.lower():\n",
    "        logger.setLevel(logging.ERROR)"
   ]
  },
  {
   "cell_type": "code",
   "execution_count": 2,
   "id": "0f1805f1-f4cf-42ea-bb68-d4ebae44974a",
   "metadata": {},
   "outputs": [],
   "source": [
    "dataset = load_dataset(\"cardiffnlp/tweet_eval\", \"emoji\")\n",
    "train = dataset.get(\"train\")\n",
    "val = dataset.get(\"validation\")"
   ]
  },
  {
   "cell_type": "code",
   "execution_count": 3,
   "id": "17b2a1da",
   "metadata": {},
   "outputs": [
    {
     "name": "stderr",
     "output_type": "stream",
     "text": [
      "/home/andrew/git/teaching-neural-networks/venv/lib/python3.12/site-packages/transformers/tokenization_utils_base.py:1601: FutureWarning: `clean_up_tokenization_spaces` was not set. It will be set to `True` by default. This behavior will be depracted in transformers v4.45, and will be then set to `False` by default. For more details check this issue: https://github.com/huggingface/transformers/issues/31884\n",
      "  warnings.warn(\n"
     ]
    }
   ],
   "source": [
    "classes = len(train.unique(\"label\"))\n",
    "name = \"distilbert/distilbert-base-uncased\"\n",
    "tokenizer = BertTokenizer.from_pretrained(name)\n",
    "pad_id = tokenizer.get_vocab().get(\"[PAD]\")"
   ]
  },
  {
   "cell_type": "code",
   "execution_count": 4,
   "id": "0f0da779-7228-4953-92cd-b5fde4802756",
   "metadata": {},
   "outputs": [
    {
     "name": "stdout",
     "output_type": "stream",
     "text": [
      "longest sequence: 75\n"
     ]
    }
   ],
   "source": [
    "length =0\n",
    "for example in train:\n",
    "    length = max(length, len(tokenizer(example[\"text\"]).input_ids))\n",
    "\n",
    "for example in val:\n",
    "    length = max(length, len(tokenizer(example[\"text\"]).input_ids))\n",
    "\n",
    "print(f\"longest sequence: {length}\")"
   ]
  },
  {
   "cell_type": "code",
   "execution_count": 5,
   "id": "736f24ee",
   "metadata": {},
   "outputs": [],
   "source": [
    "def pre_process(examples):\n",
    "    examples = tokenizer(\n",
    "        examples[\"text\"],\n",
    "        max_length=96,\n",
    "        truncation=True,\n",
    "        padding=\"max_length\",\n",
    "    )\n",
    "    return examples\n",
    "\n",
    "\n",
    "train_dataset = train.map(\n",
    "    pre_process, batched=True, num_proc=2, remove_columns=[\"text\"]\n",
    ")\n",
    "val_dataset = val.map(\n",
    "    pre_process, batched=True, num_proc=2, remove_columns=[\"text\"]\n",
    ")"
   ]
  },
  {
   "cell_type": "code",
   "execution_count": 6,
   "id": "9b62974d",
   "metadata": {},
   "outputs": [],
   "source": [
    "def collate_fn(batch):\n",
    "    inputs = {\"input_ids\": [], \"token_type_ids\": [], \"attention_mask\": []}\n",
    "    labels = []\n",
    "\n",
    "    for example in batch:\n",
    "        inputs[\"input_ids\"].append(example[\"input_ids\"])\n",
    "        inputs[\"token_type_ids\"].append(example[\"token_type_ids\"])\n",
    "        inputs[\"attention_mask\"].append(example[\"attention_mask\"])\n",
    "        labels.append(example[\"label\"])\n",
    "\n",
    "    inputs[\"input_ids\"] = torch.tensor(inputs[\"input_ids\"]).long()\n",
    "    inputs[\"token_type_ids\"] = torch.tensor(inputs[\"token_type_ids\"]).long()\n",
    "    inputs[\"attention_mask\"] = torch.tensor(inputs[\"attention_mask\"]).long()\n",
    "    labels = torch.tensor(labels).long()\n",
    "    return inputs, labels"
   ]
  },
  {
   "cell_type": "code",
   "execution_count": 7,
   "id": "82df0f3e",
   "metadata": {},
   "outputs": [],
   "source": [
    "trainloader = data.DataLoader(\n",
    "    train_dataset,\n",
    "    batch_size=64,\n",
    "    collate_fn=collate_fn,\n",
    "    drop_last=False,\n",
    "    shuffle=False,\n",
    "    pin_memory=True,\n",
    "    num_workers=2,\n",
    ")\n",
    "\n",
    "testloader = data.DataLoader(\n",
    "    val_dataset,\n",
    "    batch_size=128,\n",
    "    collate_fn=collate_fn,\n",
    "    drop_last=False,\n",
    "    shuffle=False,\n",
    "    pin_memory=True,\n",
    "    num_workers=2,\n",
    ")\n",
    "\n",
    "\n",
    "def to(inputs, labels, device, non_blocking):\n",
    "    inputs = dict(\n",
    "        map(\n",
    "            lambda item: (item[0], item[1].to(device, non_blocking=non_blocking)),\n",
    "            inputs.items(),\n",
    "        )\n",
    "    )\n",
    "    labels = labels.to(device, non_blocking=True)\n",
    "    return inputs, labels"
   ]
  },
  {
   "cell_type": "code",
   "execution_count": 8,
   "id": "7cfa0102-5255-4c62-bc66-c7d43179b30f",
   "metadata": {},
   "outputs": [],
   "source": [
    "model = tnn.BertForClassification(classes=classes, hidden_size=768, name=name)\n",
    "lr = 2e-4\n",
    "weight_decay = 1e-2\n",
    "factor = 0.1\n",
    "patience = 5\n",
    "\n",
    "optim = torch.optim.SGD(model.parameters(), lr=lr, momentum=0.9, weight_decay=weight_decay)\n",
    "loss_fn = nn.CrossEntropyLoss(ignore_index=pad_id)\n",
    "scheduler = ReduceLROnPlateau(optim, mode=\"min\", factor=factor, patience=patience)"
   ]
  },
  {
   "cell_type": "code",
   "execution_count": 9,
   "id": "400d89ba",
   "metadata": {},
   "outputs": [],
   "source": [
    "trainer = tnn.Trainer(\n",
    "    model,\n",
    "    optim,\n",
    "    loss_fn,\n",
    "    trainloader,\n",
    "    testloader,\n",
    "    scheduler=scheduler,\n",
    "    epochs=100,\n",
    "    unpack_inputs=True,\n",
    "    save_weights=True,\n",
    "    device=device,\n",
    "    to_fn=to,\n",
    "    path=\"../training/emotions-bert-sgdm.h5\",\n",
    "    verbose=True,\n",
    "    profile=False,\n",
    ")"
   ]
  },
  {
   "cell_type": "code",
   "execution_count": null,
   "id": "39b3b2e6",
   "metadata": {},
   "outputs": [
    {
     "name": "stdout",
     "output_type": "stream",
     "text": [
      "model using cuda\n",
      "weights saved to ../training/emotions-bert-sgdm.h5/trajectory/weights-epoch-0\n",
      "training started\n"
     ]
    }
   ],
   "source": [
    "sgdm_metrics = trainer.train()"
   ]
  },
  {
   "cell_type": "code",
   "execution_count": null,
   "id": "aff52493-8d90-409c-8630-2fb8f61df18c",
   "metadata": {},
   "outputs": [],
   "source": [
    "model = tnn.BertForClassification(classes=classes, hidden_size=768, name=name)\n",
    "optim = torch.optim.SGD(model.parameters(), lr=lr, momentum=0.9, nesterov=True, weight_decay=weight_decay)\n",
    "scheduler = ReduceLROnPlateau(optim, mode=\"min\", factor=factor, patience=patience)"
   ]
  },
  {
   "cell_type": "code",
   "execution_count": null,
   "id": "ba324162-4874-478a-a37b-b1d6694800ec",
   "metadata": {},
   "outputs": [],
   "source": [
    "trainer.model = model\n",
    "trainer.optim = optim\n",
    "trainer.scheduler = scheduler\n",
    "trainer.path = \"../training/emotions-bert-sgdm-nesterov.h5\"\n",
    "sgdm_nesterov_metrics = trainer.train()"
   ]
  },
  {
   "cell_type": "code",
   "execution_count": null,
   "id": "8a17267b-9ddd-4956-ae13-030011365b7a",
   "metadata": {},
   "outputs": [],
   "source": [
    "model = tnn.BertForClassification(classes=classes, hidden_size=768, name=name)\n",
    "optim = torch.optim.RMSprop(model.parameters(), lr=lr, alpha=0.99, weight_decay=weight_decay)\n",
    "scheduler = ReduceLROnPlateau(optim, mode=\"min\", factor=factor, patience=patience)"
   ]
  },
  {
   "cell_type": "code",
   "execution_count": null,
   "id": "be03546c-9543-4e1c-ae50-7239bd87ba57",
   "metadata": {},
   "outputs": [],
   "source": [
    "trainer.model = model\n",
    "trainer.optim = optim\n",
    "trainer.scheduler = scheduler\n",
    "trainer.path = \"../training/emotions-bert-rmsprop.h5\"\n",
    "rmsprop_metrics = trainer.train()"
   ]
  },
  {
   "cell_type": "code",
   "execution_count": null,
   "id": "1bb802bf-837c-4927-b666-9a72b5963957",
   "metadata": {},
   "outputs": [],
   "source": [
    "model = tnn.BertForClassification(classes=classes, hidden_size=768, name=name)\n",
    "optim = torch.optim.Adam(model.parameters(), lr=lr, betas=(0.9, 0.999), weight_decay=weight_decay)\n",
    "scheduler = ReduceLROnPlateau(optim, mode=\"min\", factor=factor, patience=patience))"
   ]
  },
  {
   "cell_type": "code",
   "execution_count": null,
   "id": "95b3aec5-df70-4baa-a8e3-2d233aa4a4c8",
   "metadata": {},
   "outputs": [],
   "source": [
    "trainer.model = model\n",
    "trainer.optim = optim\n",
    "trainer.scheduler = scheduler\n",
    "trainer.path = \"../training/emotions-bert-adam.h5\"\n",
    "adam_metrics = trainer.train()"
   ]
  }
 ],
 "metadata": {
  "kernelspec": {
   "display_name": "Python 3 (ipykernel)",
   "language": "python",
   "name": "python3"
  },
  "language_info": {
   "codemirror_mode": {
    "name": "ipython",
    "version": 3
   },
   "file_extension": ".py",
   "mimetype": "text/x-python",
   "name": "python",
   "nbconvert_exporter": "python",
   "pygments_lexer": "ipython3",
   "version": "3.12.4"
  }
 },
 "nbformat": 4,
 "nbformat_minor": 5
}
