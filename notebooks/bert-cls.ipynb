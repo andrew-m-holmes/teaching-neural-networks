{
 "cells": [
  {
   "cell_type": "code",
   "execution_count": null,
   "id": "36bda9a1-6884-4b87-b7da-55277b1cb170",
   "metadata": {},
   "outputs": [],
   "source": [
    "import numpy as np\n",
    "import tnn\n",
    "import torch\n",
    "import torch.nn as nn\n",
    "import torch.utils.data as data\n",
    "import logging\n",
    "\n",
    "from datasets import load_dataset, concatenate_datasets\n",
    "from transformers import RobertaTokenizer, RobertaForSequenceClassification\n",
    "\n",
    "device = (\n",
    "    \"cuda\"\n",
    "    if torch.cuda.is_available()\n",
    "    else \"mps\" if torch.backends.mps.is_available() else \"cpu\"\n",
    ")\n",
    "\n",
    "loggers = [logging.getLogger(name) for name in logging.root.manager.loggerDict]\n",
    "for logger in loggers:\n",
    "    if \"transformers\" in logger.name.lower():\n",
    "        logger.setLevel(logging.ERROR)"
   ]
  },
  {
   "cell_type": "code",
   "execution_count": null,
   "id": "0f1805f1-f4cf-42ea-bb68-d4ebae44974a",
   "metadata": {},
   "outputs": [],
   "source": [
    "dataset = load_dataset(\"stanfordnlp/snli\")\n",
    "keep_known = lambda example: example[\"label\"] != -1\n",
    "train = dataset.get(\"train\").filter(keep_known, num_proc=2)\n",
    "test = dataset.get(\"test\").filter(keep_known, num_proc=2)"
   ]
  },
  {
   "cell_type": "code",
   "execution_count": null,
   "id": "17b2a1da",
   "metadata": {},
   "outputs": [],
   "source": [
    "num_labels = len(train.unique(\"label\"))\n",
    "name = \"distilbert/distilroberta-base\"\n",
    "tokenizer = RobertaTokenizer.from_pretrained(name)"
   ]
  },
  {
   "cell_type": "code",
   "execution_count": null,
   "id": "736f24ee",
   "metadata": {},
   "outputs": [],
   "source": [
    "def pre_process(examples):\n",
    "    premises = list(map(lambda premise: premise.lower(), examples[\"premise\"]))\n",
    "    hypotheses = list(map(lambda hypothesis: hypothesis.lower(), examples[\"hypothesis\"]))\n",
    "    examples = tokenizer(\n",
    "        [(premise, hypothesis) for premise, hypothesis in zip(premises, hypotheses)],\n",
    "        max_length=64,\n",
    "        truncation=True,\n",
    "        padding=\"max_length\",\n",
    "    )\n",
    "    return examples\n",
    "\n",
    "train_dataset = train.map(\n",
    "    pre_process, batched=True, num_proc=2, remove_columns=[\"hypothesis\", \"premise\"]\n",
    ")\n",
    "test_dataset = test.map(\n",
    "    pre_process, batched=True, num_proc=2, remove_columns=[\"hypothesis\", \"premise\"]\n",
    ")"
   ]
  },
  {
   "cell_type": "code",
   "execution_count": null,
   "id": "9b62974d",
   "metadata": {},
   "outputs": [],
   "source": [
    "def collate_fn(batch):\n",
    "    inputs = {\"input_ids\": [], \"attention_mask\": []}\n",
    "    labels = []\n",
    "    for example in batch:\n",
    "        inputs[\"input_ids\"].append(example[\"input_ids\"])\n",
    "        inputs[\"attention_mask\"].append(example[\"attention_mask\"])\n",
    "        labels.append(example[\"label\"])\n",
    "\n",
    "    inputs[\"input_ids\"] = torch.tensor(inputs[\"input_ids\"]).long()\n",
    "    inputs[\"attention_mask\"] = torch.tensor(inputs[\"attention_mask\"]).long()\n",
    "    labels = torch.tensor(labels).long()\n",
    "    return inputs, labels"
   ]
  },
  {
   "cell_type": "code",
   "execution_count": null,
   "id": "82df0f3e",
   "metadata": {},
   "outputs": [],
   "source": [
    "trainloader = data.DataLoader(\n",
    "    train_dataset,\n",
    "    batch_size=32,\n",
    "    collate_fn=collate_fn,\n",
    "    drop_last=False,\n",
    "    shuffle=False,\n",
    "    pin_memory=True,\n",
    "    num_workers=2,\n",
    ")\n",
    "\n",
    "testloader = data.DataLoader(\n",
    "    test_dataset,\n",
    "    batch_size=32,\n",
    "    collate_fn=collate_fn,\n",
    "    drop_last=False,\n",
    "    shuffle=False,\n",
    "    pin_memory=True,\n",
    "    num_workers=2,\n",
    ")\n",
    "\n",
    "\n",
    "def to(inputs, labels, device, non_blocking):\n",
    "    inputs = dict(\n",
    "        map(\n",
    "            lambda item: (item[0], item[1].to(device, non_blocking=non_blocking)),\n",
    "            inputs.items(),\n",
    "        )\n",
    "    )\n",
    "    labels = labels.to(device, non_blocking=True)\n",
    "    return inputs, labels"
   ]
  },
  {
   "cell_type": "code",
   "execution_count": null,
   "id": "7e6b9153-da17-426e-8197-04246d05cfbf",
   "metadata": {},
   "outputs": [],
   "source": [
    "class DistilRoberta(tnn.Model):\n",
    "\n",
    "    def __init__(self, name, num_labels):\n",
    "        super().__init__()\n",
    "        self.distil_roberta = RobertaForSequenceClassification.from_pretrained(name, num_labels=num_labels)\n",
    "\n",
    "    def forward(self, **inputs):\n",
    "        return self.distil_roberta(**inputs)"
   ]
  },
  {
   "cell_type": "code",
   "execution_count": null,
   "id": "7cfa0102-5255-4c62-bc66-c7d43179b30f",
   "metadata": {},
   "outputs": [],
   "source": [
    "lr = 2e-5\n",
    "weight_decay = 1e-2\n",
    "\n",
    "model = DistilRoberta(name=name, num_labels=num_labels)\n",
    "optim = torch.optim.SGD(model.parameters(), lr=lr, momentum=0.9, weight_decay=weight_decay)\n",
    "loss_fn = nn.CrossEntropyLoss()"
   ]
  },
  {
   "cell_type": "code",
   "execution_count": null,
   "id": "400d89ba",
   "metadata": {},
   "outputs": [],
   "source": [
    "trainer = tnn.Trainer(\n",
    "    model,\n",
    "    optim,\n",
    "    loss_fn,\n",
    "    trainloader,\n",
    "    testloader,\n",
    "    epochs=10,\n",
    "    unpack_inputs=True,\n",
    "    save_weights=False,\n",
    "    device=device,\n",
    "    to_fn=to,\n",
    "    path=\"../training/snli-distil-roberta-sgdm.h5\",\n",
    "    verbose=True,\n",
    "    profile=True,\n",
    ")"
   ]
  },
  {
   "cell_type": "code",
   "execution_count": null,
   "id": "39b3b2e6",
   "metadata": {},
   "outputs": [],
   "source": [
    "sgdm_metrics = trainer.train()"
   ]
  },
  {
   "cell_type": "code",
   "execution_count": null,
   "id": "aff52493-8d90-409c-8630-2fb8f61df18c",
   "metadata": {},
   "outputs": [],
   "source": [
    "model = DistilRoberta(name=name, num_labels=num_labels)\n",
    "optim = torch.optim.SGD(model.parameters(), lr=lr, momentum=0.9, nesterov=True, weight_decay=weight_decay)"
   ]
  },
  {
   "cell_type": "code",
   "execution_count": null,
   "id": "ba324162-4874-478a-a37b-b1d6694800ec",
   "metadata": {},
   "outputs": [],
   "source": [
    "trainer.model = model\n",
    "trainer.optim = optim\n",
    "trainer.path = \"../training/snli-distil-roberta-sgdm-nesterov.h5\"\n",
    "sgdm_nesterov_metrics = trainer.train()"
   ]
  },
  {
   "cell_type": "code",
   "execution_count": null,
   "id": "8a17267b-9ddd-4956-ae13-030011365b7a",
   "metadata": {},
   "outputs": [],
   "source": [
    "model = DistilRoberta(name=name, num_labels=num_labels)\n",
    "optim = torch.optim.RMSprop(model.parameters(), lr=lr, alpha=0.99, weight_decay=weight_decay)"
   ]
  },
  {
   "cell_type": "code",
   "execution_count": null,
   "id": "be03546c-9543-4e1c-ae50-7239bd87ba57",
   "metadata": {},
   "outputs": [],
   "source": [
    "trainer.model = model\n",
    "trainer.optim = optim\n",
    "trainer.path = \"../training/snli-distil-roberta-rmsprop.h5\"\n",
    "rmsprop_metrics = trainer.train()"
   ]
  },
  {
   "cell_type": "code",
   "execution_count": null,
   "id": "1bb802bf-837c-4927-b666-9a72b5963957",
   "metadata": {},
   "outputs": [],
   "source": [
    "model = DistilRoberta(name=name, num_labels=num_labels)\n",
    "optim = torch.optim.Adam(model.parameters(), lr=lr, betas=(0.9, 0.999), weight_decay=weight_decay)"
   ]
  },
  {
   "cell_type": "code",
   "execution_count": null,
   "id": "95b3aec5-df70-4baa-a8e3-2d233aa4a4c8",
   "metadata": {},
   "outputs": [],
   "source": [
    "trainer.model = model\n",
    "trainer.optim = optim\n",
    "trainer.path = \"../training/snli-distil-roberta-adam.h5\"\n",
    "adam_metrics = trainer.train()"
   ]
  }
 ],
 "metadata": {
  "kernelspec": {
   "display_name": "Python 3 (ipykernel)",
   "language": "python",
   "name": "python3"
  },
  "language_info": {
   "codemirror_mode": {
    "name": "ipython",
    "version": 3
   },
   "file_extension": ".py",
   "mimetype": "text/x-python",
   "name": "python",
   "nbconvert_exporter": "python",
   "pygments_lexer": "ipython3",
   "version": "3.12.4"
  }
 },
 "nbformat": 4,
 "nbformat_minor": 5
}
