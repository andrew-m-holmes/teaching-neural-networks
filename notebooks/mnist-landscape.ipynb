{
 "cells": [
  {
   "cell_type": "code",
   "execution_count": 1,
   "metadata": {},
   "outputs": [],
   "source": [
    "import tnn\n",
    "import torch\n",
    "import torch.nn as nn\n",
    "import torch.utils.data as data\n",
    "import numpy as np\n",
    "\n",
    "from datasets import load_dataset\n",
    "\n",
    "device = \"cuda\" if torch.cuda.is_available() else \"mps\" if torch.backends.mps.is_available() else \"cpu\""
   ]
  },
  {
   "cell_type": "code",
   "execution_count": 2,
   "metadata": {},
   "outputs": [],
   "source": [
    "dataset = load_dataset(\"ylecun/mnist\", split=\"test\", num_proc=2)\n",
    "\n",
    "test_indices = np.random.choice(len(dataset), size=len(dataset), replace=False)\n",
    "test = dataset.select(test_indices)"
   ]
  },
  {
   "cell_type": "code",
   "execution_count": 3,
   "metadata": {},
   "outputs": [
    {
     "data": {
      "application/vnd.jupyter.widget-view+json": {
       "model_id": "86dc31d578374936b4e06999592a3b46",
       "version_major": 2,
       "version_minor": 0
      },
      "text/plain": [
       "Map (num_proc=2):   0%|          | 0/10000 [00:00<?, ? examples/s]"
      ]
     },
     "metadata": {},
     "output_type": "display_data"
    }
   ],
   "source": [
    "def to_numpy(example):\n",
    "    arr = np.reshape(example[\"image\"], -1) / 255.0\n",
    "    example[\"input\"] = arr\n",
    "    return example\n",
    "\n",
    "\n",
    "test_dataset = test.map(to_numpy, num_proc=2).select_columns([\"input\", \"label\"])"
   ]
  },
  {
   "cell_type": "code",
   "execution_count": 4,
   "metadata": {},
   "outputs": [],
   "source": [
    "def collate_fn(batch):\n",
    "    inputs = torch.tensor([ex[\"input\"] for ex in batch]).float()\n",
    "    labels = torch.tensor([ex[\"label\"] for ex in batch]).long()\n",
    "    return inputs, labels\n",
    "\n",
    "testloader = data.DataLoader(\n",
    "    test_dataset, batch_size=32, shuffle=True, drop_last=False, num_workers=2, collate_fn=collate_fn,  pin_memory=True\n",
    ")"
   ]
  },
  {
   "cell_type": "code",
   "execution_count": 5,
   "metadata": {},
   "outputs": [],
   "source": [
    "loss_fn = nn.CrossEntropyLoss()\n",
    "model = tnn.Model(tnn.MLP())\n",
    "sgdm_no_nag_landscape = tnn.Landscape.from_file(\n",
    "    trainer_path=\"../training/mnist-momentum-no-nag.h5\",\n",
    "    model=model,\n",
    "    loss_fn=loss_fn,\n",
    "    eval_dataloader=testloader,\n",
    "    device=device,\n",
    "    path=\"../landscapes/mnist-momentum-landscape-no-nag.h5\",\n",
    "    verbose=25\n",
    ")"
   ]
  },
  {
   "cell_type": "code",
   "execution_count": 6,
   "metadata": {},
   "outputs": [
    {
     "name": "stdout",
     "output_type": "stream",
     "text": [
      "meshgrid creation using pca\n",
      "model using cuda\n",
      "meshgrid creation started\n",
      "(iter: 25): iter loss: 0.0735\n",
      "(iter: 50): iter loss: 0.0733\n",
      "(iter: 75): iter loss: 0.0731\n",
      "(iter: 100): iter loss: 0.0729\n",
      "(iter: 125): iter loss: 0.0729\n",
      "(iter: 150): iter loss: 0.0725\n",
      "(iter: 175): iter loss: 0.0723\n",
      "(iter: 200): iter loss: 0.0721\n",
      "(iter: 225): iter loss: 0.0719\n",
      "(iter: 250): iter loss: 0.0717\n",
      "(iter: 275): iter loss: 0.0715\n",
      "(iter: 300): iter loss: 0.0714\n",
      "(iter: 325): iter loss: 0.0712\n",
      "(iter: 350): iter loss: 0.0714\n",
      "(iter: 375): iter loss: 0.0717\n",
      "(iter: 400): iter loss: 0.0707\n",
      "(iter: 425): iter loss: 0.0707\n",
      "(iter: 450): iter loss: 0.0704\n",
      "(iter: 475): iter loss: 0.0702\n",
      "(iter: 500): iter loss: 0.0701\n",
      "(iter: 525): iter loss: 0.0700\n",
      "(iter: 550): iter loss: 0.0698\n",
      "(iter: 575): iter loss: 0.0700\n",
      "(iter: 600): iter loss: 0.0696\n",
      "(iter: 625): iter loss: 0.0699\n",
      "meshgrid creation complete\n",
      "../landscapes\n",
      "meshgrid saved to ../landscapes/mnist-momentum-landscape-no-nag.h5/landscape/meshgrid\n",
      "optimizer path was saved to ../landscapes/mnist-momentum-landscape-no-nag.h5/landscape/optim_path\n",
      "principle component variance was saved to ../landscapes/mnist-momentum-landscape-no-nag.h5/landscape/variance\n"
     ]
    }
   ],
   "source": [
    "sgmd_no_nag_dict = sgdm_no_nag_landscape.create_meshgrid(resolution=25, mode=\"pca\", endpoints=(-10, 10))"
   ]
  },
  {
   "cell_type": "code",
   "execution_count": 7,
   "metadata": {},
   "outputs": [],
   "source": [
    "sgdm_nag_landscape = tnn.Landscape.from_file(\n",
    "    trainer_path=\"../training/mnist-momentum-nag.h5\",\n",
    "    model=model,\n",
    "    loss_fn=loss_fn,\n",
    "    eval_dataloader=testloader,\n",
    "    device=device,\n",
    "    path=\"../landscapes/mnist-momentum-landscape-nag.h5\",\n",
    "    verbose=25\n",
    ")"
   ]
  },
  {
   "cell_type": "code",
   "execution_count": 8,
   "metadata": {},
   "outputs": [
    {
     "name": "stdout",
     "output_type": "stream",
     "text": [
      "meshgrid creation using pca\n",
      "model using cuda\n",
      "meshgrid creation started\n",
      "(iter: 25): iter loss: 0.0753\n",
      "(iter: 50): iter loss: 0.0751\n",
      "(iter: 75): iter loss: 0.0749\n",
      "(iter: 100): iter loss: 0.0747\n",
      "(iter: 125): iter loss: 0.0747\n",
      "(iter: 150): iter loss: 0.0747\n",
      "(iter: 175): iter loss: 0.0745\n",
      "(iter: 200): iter loss: 0.0740\n",
      "(iter: 225): iter loss: 0.0738\n",
      "(iter: 250): iter loss: 0.0737\n",
      "(iter: 275): iter loss: 0.0748\n",
      "(iter: 300): iter loss: 0.0734\n",
      "(iter: 325): iter loss: 0.0732\n",
      "(iter: 350): iter loss: 0.0731\n",
      "(iter: 375): iter loss: 0.0729\n",
      "(iter: 400): iter loss: 0.0728\n",
      "(iter: 425): iter loss: 0.0726\n",
      "(iter: 450): iter loss: 0.0725\n",
      "(iter: 475): iter loss: 0.0723\n",
      "(iter: 500): iter loss: 0.0722\n",
      "(iter: 525): iter loss: 0.0721\n",
      "(iter: 550): iter loss: 0.0719\n",
      "(iter: 575): iter loss: 0.0718\n",
      "(iter: 600): iter loss: 0.0717\n",
      "(iter: 625): iter loss: 0.0717\n",
      "meshgrid creation complete\n",
      "../landscapes\n",
      "meshgrid saved to ../landscapes/mnist-momentum-landscape-nag.h5/landscape/meshgrid\n",
      "optimizer path was saved to ../landscapes/mnist-momentum-landscape-nag.h5/landscape/optim_path\n",
      "principle component variance was saved to ../landscapes/mnist-momentum-landscape-nag.h5/landscape/variance\n"
     ]
    }
   ],
   "source": [
    "sgdm_nag_dict = sgdm_nag_landscape.create_meshgrid(resolution=25, endpoints=(-10, 10), mode=\"pca\")"
   ]
  }
 ],
 "metadata": {
  "kernelspec": {
   "display_name": "venv",
   "language": "python",
   "name": "python3"
  },
  "language_info": {
   "codemirror_mode": {
    "name": "ipython",
    "version": 3
   },
   "file_extension": ".py",
   "mimetype": "text/x-python",
   "name": "python",
   "nbconvert_exporter": "python",
   "pygments_lexer": "ipython3",
   "version": "3.12.4"
  }
 },
 "nbformat": 4,
 "nbformat_minor": 2
}
