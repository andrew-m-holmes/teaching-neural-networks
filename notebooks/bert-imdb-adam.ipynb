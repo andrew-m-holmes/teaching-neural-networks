{
 "cells": [
  {
   "cell_type": "code",
   "execution_count": 1,
   "id": "36bda9a1-6884-4b87-b7da-55277b1cb170",
   "metadata": {},
   "outputs": [],
   "source": [
    "import tnn\n",
    "import torch\n",
    "import torch.nn as nn\n",
    "import torch.optim as optim\n",
    "import torch.utils.data as data\n",
    "import logging\n",
    "\n",
    "from datasets import load_dataset\n",
    "from transformers import AutoTokenizer, AutoModelForSequenceClassification\n",
    "\n",
    "device = (\n",
    "    \"cuda\"\n",
    "    if torch.cuda.is_available()\n",
    "    else \"mps\" if torch.backends.mps.is_available() else \"cpu\"\n",
    ")\n",
    "\n",
    "loggers = [logging.getLogger(name) for name in logging.root.manager.loggerDict]\n",
    "for logger in loggers:\n",
    "    if \"transformers\" in logger.name.lower():\n",
    "        logger.setLevel(logging.ERROR)"
   ]
  },
  {
   "cell_type": "code",
   "execution_count": 2,
   "id": "0f1805f1-f4cf-42ea-bb68-d4ebae44974a",
   "metadata": {},
   "outputs": [],
   "source": [
    "dataset = load_dataset(\"stanfordnlp/imdb\")\n",
    "train = dataset.get(\"train\")\n",
    "test = dataset.get(\"test\")"
   ]
  },
  {
   "cell_type": "code",
   "execution_count": 3,
   "id": "17b2a1da",
   "metadata": {},
   "outputs": [],
   "source": [
    "num_labels = len(train.unique(\"label\"))\n",
    "name = \"distilbert/distilbert-base-uncased\"\n",
    "tokenizer = AutoTokenizer.from_pretrained(name)"
   ]
  },
  {
   "cell_type": "code",
   "execution_count": 4,
   "id": "736f24ee",
   "metadata": {},
   "outputs": [],
   "source": [
    "def pre_process(examples):\n",
    "    examples = tokenizer(\n",
    "        examples[\"text\"],\n",
    "        max_length=512,\n",
    "        truncation=True,\n",
    "        padding=\"max_length\",\n",
    "    )\n",
    "    return examples\n",
    "\n",
    "\n",
    "train_dataset = train.map(\n",
    "    pre_process,\n",
    "    batched=True,\n",
    "    num_proc=2,\n",
    ")\n",
    "test_dataset = test.map(\n",
    "    pre_process,\n",
    "    batched=True,\n",
    "    num_proc=2,\n",
    ")"
   ]
  },
  {
   "cell_type": "code",
   "execution_count": 5,
   "id": "9b62974d",
   "metadata": {},
   "outputs": [],
   "source": [
    "def collate_fn(batch):\n",
    "    inputs = {\"input_ids\": [], \"attention_mask\": []}\n",
    "    labels = []\n",
    "    for example in batch:\n",
    "        inputs[\"input_ids\"].append(example[\"input_ids\"])\n",
    "        inputs[\"attention_mask\"].append(example[\"attention_mask\"])\n",
    "        labels.append(example[\"label\"])\n",
    "\n",
    "    inputs[\"input_ids\"] = torch.tensor(inputs[\"input_ids\"]).long()\n",
    "    inputs[\"attention_mask\"] = torch.tensor(inputs[\"attention_mask\"]).long()\n",
    "    labels = torch.tensor(labels).long()\n",
    "    return inputs, labels"
   ]
  },
  {
   "cell_type": "code",
   "execution_count": 6,
   "id": "82df0f3e",
   "metadata": {},
   "outputs": [],
   "source": [
    "trainloader = data.DataLoader(\n",
    "    train_dataset,\n",
    "    batch_size=32,\n",
    "    collate_fn=collate_fn,\n",
    "    drop_last=False,\n",
    "    shuffle=True,\n",
    "    pin_memory=True,\n",
    "    num_workers=2,\n",
    ")\n",
    "\n",
    "testloader = data.DataLoader(\n",
    "    test_dataset,\n",
    "    batch_size=32,\n",
    "    collate_fn=collate_fn,\n",
    "    drop_last=False,\n",
    "    shuffle=True,\n",
    "    pin_memory=True,\n",
    "    num_workers=2,\n",
    ")\n",
    "\n",
    "\n",
    "def to(inputs, labels, device, non_blocking):\n",
    "    inputs = dict(\n",
    "        map(\n",
    "            lambda item: (item[0], item[1].to(device, non_blocking=non_blocking)),\n",
    "            inputs.items(),\n",
    "        )\n",
    "    )\n",
    "    labels = labels.to(device, non_blocking=True)\n",
    "    return inputs, labels"
   ]
  },
  {
   "cell_type": "code",
   "execution_count": 7,
   "id": "7cfa0102-5255-4c62-bc66-c7d43179b30f",
   "metadata": {},
   "outputs": [],
   "source": [
    "lr = 5e-5\n",
    "weight_decay = 1e-4\n",
    "\n",
    "model = AutoModelForSequenceClassification.from_pretrained(name, num_labels=num_labels)\n",
    "optimizer = optim.Adam(model.parameters(), lr=lr, betas=(0.9, 0.999), eps=1e-8, weight_decay=weight_decay)\n",
    "loss_fn = nn.CrossEntropyLoss()"
   ]
  },
  {
   "cell_type": "code",
   "execution_count": 8,
   "id": "400d89ba",
   "metadata": {},
   "outputs": [],
   "source": [
    "trainer = tnn.Trainer(\n",
    "    model,\n",
    "    optimizer,\n",
    "    loss_fn,\n",
    "    trainloader,\n",
    "    testloader,\n",
    "    epochs=3,\n",
    "    store_update_metrics=True,\n",
    "    unpack_inputs=True,\n",
    "    device=device,\n",
    "    to_fn=to,\n",
    "    path=\"../training/imdb-distil-bert-adam.h5\",\n",
    "    verbose=True,\n",
    "    profile=True,\n",
    "    logger_name=\"adam\"\n",
    ")"
   ]
  },
  {
   "cell_type": "code",
   "execution_count": 9,
   "id": "39b3b2e6",
   "metadata": {},
   "outputs": [
    {
     "name": "stdout",
     "output_type": "stream",
     "text": [
      "2024-11-29 15:54:31,718 - INFO - model using cuda\n",
      "2024-11-29 15:54:39,949 - INFO - training started\n",
      "2024-11-29 15:59:44,889 - INFO - (epoch: 1/3): (train loss: 0.2603, test loss: 0.1933, train acc: 89.27%, test acc: 92.85%)\n",
      "(gpu memory profile): (average allocated: 1075.0 MB, average reserved: 6225.0 MB)\n",
      "(duration info): (epoch duration: 0:05:04, elapsed time: 0:05:04)\n",
      "2024-11-29 16:04:49,925 - INFO - (epoch: 2/3): (train loss: 0.1335, test loss: 0.1918, train acc: 95.09%, test acc: 92.40%)\n",
      "(gpu memory profile): (average allocated: 1075.0 MB, average reserved: 6225.0 MB)\n",
      "(duration info): (epoch duration: 0:05:05, elapsed time: 0:10:09)\n",
      "2024-11-29 16:09:54,577 - INFO - (epoch: 3/3): (train loss: 0.0709, test loss: 0.2390, train acc: 97.58%, test acc: 91.63%)\n",
      "(gpu memory profile): (average allocated: 1075.0 MB, average reserved: 6225.0 MB)\n",
      "(duration info): (epoch duration: 0:05:04, elapsed time: 0:15:14)\n",
      "2024-11-29 16:09:54,579 - INFO - training complete\n",
      "2024-11-29 16:09:54,582 - INFO - train_losses saved to ../training/imdb-distil-bert-adam.h5/metrics/train_losses\n",
      "2024-11-29 16:09:54,583 - INFO - test_losses saved to ../training/imdb-distil-bert-adam.h5/metrics/test_losses\n",
      "2024-11-29 16:09:54,583 - INFO - train_accs saved to ../training/imdb-distil-bert-adam.h5/metrics/train_accs\n",
      "2024-11-29 16:09:54,584 - INFO - test_accs saved to ../training/imdb-distil-bert-adam.h5/metrics/test_accs\n",
      "2024-11-29 16:09:54,585 - INFO - epoch_times saved to ../training/imdb-distil-bert-adam.h5/metrics/epoch_times\n",
      "2024-11-29 16:09:54,586 - INFO - update_train_losses saved to ../training/imdb-distil-bert-adam.h5/metrics/update_train_losses\n",
      "2024-11-29 16:09:54,587 - INFO - update_train_accs saved to ../training/imdb-distil-bert-adam.h5/metrics/update_train_accs\n",
      "2024-11-29 16:09:54,588 - INFO - update_times saved to ../training/imdb-distil-bert-adam.h5/metrics/update_times\n"
     ]
    }
   ],
   "source": [
    "adam_metrics = trainer.train()"
   ]
  }
 ],
 "metadata": {
  "kernelspec": {
   "display_name": "venv",
   "language": "python",
   "name": "python3"
  },
  "language_info": {
   "codemirror_mode": {
    "name": "ipython",
    "version": 3
   },
   "file_extension": ".py",
   "mimetype": "text/x-python",
   "name": "python",
   "nbconvert_exporter": "python",
   "pygments_lexer": "ipython3",
   "version": "3.10.12"
  }
 },
 "nbformat": 4,
 "nbformat_minor": 5
}
