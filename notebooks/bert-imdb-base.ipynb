{
 "cells": [
  {
   "cell_type": "code",
   "execution_count": 1,
   "id": "36bda9a1-6884-4b87-b7da-55277b1cb170",
   "metadata": {},
   "outputs": [],
   "source": [
    "import numpy as np\n",
    "import tnn\n",
    "import torch\n",
    "import torch.nn as nn\n",
    "import torch.optim as optim\n",
    "import torch.utils.data as data\n",
    "import logging\n",
    "\n",
    "from datasets import load_dataset\n",
    "from transformers import AutoTokenizer, AutoModelForSequenceClassification\n",
    "\n",
    "device = (\n",
    "    \"cuda\"\n",
    "    if torch.cuda.is_available()\n",
    "    else \"mps\" if torch.backends.mps.is_available() else \"cpu\"\n",
    ")\n",
    "\n",
    "loggers = [logging.getLogger(name) for name in logging.root.manager.loggerDict]\n",
    "for logger in loggers:\n",
    "    if \"transformers\" in logger.name.lower():\n",
    "        logger.setLevel(logging.ERROR)"
   ]
  },
  {
   "cell_type": "code",
   "execution_count": 2,
   "id": "0f1805f1-f4cf-42ea-bb68-d4ebae44974a",
   "metadata": {},
   "outputs": [],
   "source": [
    "dataset = load_dataset(\"stanfordnlp/imdb\")\n",
    "train = dataset.get(\"train\")\n",
    "test = dataset.get(\"test\")"
   ]
  },
  {
   "cell_type": "code",
   "execution_count": 3,
   "id": "17b2a1da",
   "metadata": {},
   "outputs": [],
   "source": [
    "num_labels = len(train.unique(\"label\"))\n",
    "name = \"distilbert/distilbert-base-uncased\"\n",
    "tokenizer = AutoTokenizer.from_pretrained(name)"
   ]
  },
  {
   "cell_type": "code",
   "execution_count": 4,
   "id": "736f24ee",
   "metadata": {},
   "outputs": [
    {
     "data": {
      "application/vnd.jupyter.widget-view+json": {
       "model_id": "139abecf3fd841a2a7042a721501104f",
       "version_major": 2,
       "version_minor": 0
      },
      "text/plain": [
       "Map (num_proc=2):   0%|          | 0/25000 [00:00<?, ? examples/s]"
      ]
     },
     "metadata": {},
     "output_type": "display_data"
    },
    {
     "data": {
      "application/vnd.jupyter.widget-view+json": {
       "model_id": "6e24c5fc873f4f2da06106903769160a",
       "version_major": 2,
       "version_minor": 0
      },
      "text/plain": [
       "Map (num_proc=2):   0%|          | 0/25000 [00:00<?, ? examples/s]"
      ]
     },
     "metadata": {},
     "output_type": "display_data"
    }
   ],
   "source": [
    "def pre_process(examples):\n",
    "    examples = tokenizer(\n",
    "        examples[\"text\"],\n",
    "        max_length=512,\n",
    "        truncation=True,\n",
    "        padding=\"max_length\",\n",
    "    )\n",
    "    return examples\n",
    "\n",
    "\n",
    "train_dataset = train.map(\n",
    "    pre_process,\n",
    "    batched=True,\n",
    "    num_proc=2,\n",
    ")\n",
    "test_dataset = test.map(\n",
    "    pre_process,\n",
    "    batched=True,\n",
    "    num_proc=2,\n",
    ")"
   ]
  },
  {
   "cell_type": "code",
   "execution_count": 5,
   "id": "9b62974d",
   "metadata": {},
   "outputs": [],
   "source": [
    "def collate_fn(batch):\n",
    "    inputs = {\"input_ids\": [], \"attention_mask\": []}\n",
    "    labels = []\n",
    "    for example in batch:\n",
    "        inputs[\"input_ids\"].append(example[\"input_ids\"])\n",
    "        inputs[\"attention_mask\"].append(example[\"attention_mask\"])\n",
    "        labels.append(example[\"label\"])\n",
    "\n",
    "    inputs[\"input_ids\"] = torch.tensor(inputs[\"input_ids\"]).long()\n",
    "    inputs[\"attention_mask\"] = torch.tensor(inputs[\"attention_mask\"]).long()\n",
    "    labels = torch.tensor(labels).long()\n",
    "    return inputs, labels"
   ]
  },
  {
   "cell_type": "code",
   "execution_count": 6,
   "id": "82df0f3e",
   "metadata": {},
   "outputs": [],
   "source": [
    "trainloader = data.DataLoader(\n",
    "    train_dataset,\n",
    "    batch_size=32,\n",
    "    collate_fn=collate_fn,\n",
    "    drop_last=False,\n",
    "    shuffle=True,\n",
    "    pin_memory=True,\n",
    "    num_workers=2,\n",
    ")\n",
    "\n",
    "testloader = data.DataLoader(\n",
    "    test_dataset,\n",
    "    batch_size=32,\n",
    "    collate_fn=collate_fn,\n",
    "    drop_last=False,\n",
    "    shuffle=True,\n",
    "    pin_memory=True,\n",
    "    num_workers=2,\n",
    ")\n",
    "\n",
    "\n",
    "def to(inputs, labels, device, non_blocking):\n",
    "    inputs = dict(\n",
    "        map(\n",
    "            lambda item: (item[0], item[1].to(device, non_blocking=non_blocking)),\n",
    "            inputs.items(),\n",
    "        )\n",
    "    )\n",
    "    labels = labels.to(device, non_blocking=True)\n",
    "    return inputs, labels"
   ]
  },
  {
   "cell_type": "code",
   "execution_count": null,
   "id": "7cfa0102-5255-4c62-bc66-c7d43179b30f",
   "metadata": {},
   "outputs": [],
   "source": [
    "lr = 5e-5\n",
    "weight_decay = 1e-4\n",
    "\n",
    "model = AutoModelForSequenceClassification.from_pretrained(name, num_labels=num_labels)\n",
    "optimizer = optim.SGD(model.parameters(), lr=lr, weight_decay=weight_decay)\n",
    "loss_fn = nn.CrossEntropyLoss()"
   ]
  },
  {
   "cell_type": "code",
   "execution_count": null,
   "id": "400d89ba",
   "metadata": {},
   "outputs": [],
   "source": [
    "trainer = tnn.Trainer(\n",
    "    model,\n",
    "    optimizer,\n",
    "    loss_fn,\n",
    "    trainloader,\n",
    "    testloader,\n",
    "    epochs=1,\n",
    "    store_iter_metrics=True,\n",
    "    unpack_inputs=True,\n",
    "    device=device,\n",
    "    to_fn=to,\n",
    "    path=\"../training/imdb-distil-bert-base.h5\",\n",
    "    verbose=True,\n",
    "    profile=True,\n",
    ")"
   ]
  },
  {
   "cell_type": "code",
   "execution_count": 10,
   "id": "39b3b2e6",
   "metadata": {},
   "outputs": [
    {
     "name": "stdout",
     "output_type": "stream",
     "text": [
      "model using cuda\n",
      "training started\n",
      "(epoch: 1/10): (train loss: 0.6950, test loss: 0.6938, train acc: 49.32%, test acc: 48.41%)\n",
      "(gpu memory profile): (average allocated: 545.0 MB, average reserved: 5597.0 MB)\n",
      "(duration info): (epoch duration: 0:03:51, elapsed time: 0:03:51)\n",
      "(epoch: 2/10): (train loss: 0.6941, test loss: 0.6925, train acc: 49.82%, test acc: 51.86%)\n",
      "(gpu memory profile): (average allocated: 545.0 MB, average reserved: 5597.0 MB)\n",
      "(duration info): (epoch duration: 0:03:51, elapsed time: 0:07:42)\n",
      "(epoch: 3/10): (train loss: 0.6934, test loss: 0.6911, train acc: 50.54%, test acc: 55.82%)\n",
      "(gpu memory profile): (average allocated: 545.0 MB, average reserved: 5597.0 MB)\n",
      "(duration info): (epoch duration: 0:03:49, elapsed time: 0:11:32)\n",
      "(epoch: 4/10): (train loss: 0.6919, test loss: 0.6898, train acc: 52.41%, test acc: 59.14%)\n",
      "(gpu memory profile): (average allocated: 545.0 MB, average reserved: 5597.0 MB)\n",
      "(duration info): (epoch duration: 0:03:47, elapsed time: 0:15:19)\n",
      "(epoch: 5/10): (train loss: 0.6905, test loss: 0.6884, train acc: 53.68%, test acc: 62.48%)\n",
      "(gpu memory profile): (average allocated: 545.0 MB, average reserved: 5597.0 MB)\n",
      "(duration info): (epoch duration: 0:03:47, elapsed time: 0:19:07)\n",
      "(epoch: 6/10): (train loss: 0.6888, test loss: 0.6869, train acc: 55.04%, test acc: 65.49%)\n",
      "(gpu memory profile): (average allocated: 545.0 MB, average reserved: 5597.0 MB)\n",
      "(duration info): (epoch duration: 0:03:45, elapsed time: 0:22:53)\n",
      "(epoch: 7/10): (train loss: 0.6881, test loss: 0.6854, train acc: 55.86%, test acc: 68.13%)\n",
      "(gpu memory profile): (average allocated: 545.0 MB, average reserved: 5597.0 MB)\n",
      "(duration info): (epoch duration: 0:03:47, elapsed time: 0:26:40)\n",
      "(epoch: 8/10): (train loss: 0.6867, test loss: 0.6837, train acc: 57.56%, test acc: 70.35%)\n",
      "(gpu memory profile): (average allocated: 545.0 MB, average reserved: 5597.0 MB)\n",
      "(duration info): (epoch duration: 0:03:48, elapsed time: 0:30:29)\n",
      "(epoch: 9/10): (train loss: 0.6843, test loss: 0.6819, train acc: 59.26%, test acc: 72.44%)\n",
      "(gpu memory profile): (average allocated: 545.0 MB, average reserved: 5597.0 MB)\n",
      "(duration info): (epoch duration: 0:03:48, elapsed time: 0:34:17)\n",
      "(epoch: 10/10): (train loss: 0.6829, test loss: 0.6798, train acc: 60.93%, test acc: 74.33%)\n",
      "(gpu memory profile): (average allocated: 545.0 MB, average reserved: 5597.0 MB)\n",
      "(duration info): (epoch duration: 0:03:49, elapsed time: 0:38:07)\n",
      "training complete\n",
      "train_losses saved to ../training/imdb-distil-bert-base.h5/metrics/train_losses\n",
      "test_losses saved to ../training/imdb-distil-bert-base.h5/metrics/test_losses\n",
      "train_accs saved to ../training/imdb-distil-bert-base.h5/metrics/train_accs\n",
      "test_accs saved to ../training/imdb-distil-bert-base.h5/metrics/test_accs\n",
      "epoch_times saved to ../training/imdb-distil-bert-base.h5/metrics/epoch_times\n"
     ]
    }
   ],
   "source": [
    "base_metrics = trainer.train()"
   ]
  }
 ],
 "metadata": {
  "kernelspec": {
   "display_name": "venv",
   "language": "python",
   "name": "python3"
  },
  "language_info": {
   "codemirror_mode": {
    "name": "ipython",
    "version": 3
   },
   "file_extension": ".py",
   "mimetype": "text/x-python",
   "name": "python",
   "nbconvert_exporter": "python",
   "pygments_lexer": "ipython3",
   "version": "3.12.4"
  }
 },
 "nbformat": 4,
 "nbformat_minor": 5
}
