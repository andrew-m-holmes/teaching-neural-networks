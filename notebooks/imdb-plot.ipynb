{
 "cells": [
  {
   "cell_type": "code",
   "execution_count": 1,
   "metadata": {},
   "outputs": [],
   "source": [
    "import tnn"
   ]
  },
  {
   "cell_type": "code",
   "execution_count": null,
   "metadata": {},
   "outputs": [],
   "source": [
    "base_metrics = tnn.get_metrics_from_file(\"../training/imdb-distil-bert-base.h5\")\n",
    "base_train_losses, base_test_losses = base_metrics.get(\"train_losses\"), base_metrics.get(\"test_losses\")\n",
    "base_losses = {\"train\": base_train_losses, \"test\": base_test_losses}\n",
    "\n",
    "tnn.plot_metrics(metrics=base_losses, x_ticks=range(1, 4), path=\"../images/imdb-base-loss.png\")"
   ]
  },
  {
   "cell_type": "code",
   "execution_count": null,
   "metadata": {},
   "outputs": [],
   "source": [
    "sgdm_metrics = tnn.get_metrics_from_file(\"../training/imdb-distil-bert-sgdm.h5\")\n",
    "sgdm_train_losses, sgdm_test_losses = sgdm_metrics.get(\"train_losses\"), sgdm_metrics.get(\"test_losses\")\n",
    "sgdm_losses = {\"train\": sgdm_train_losses, \"test\": sgdm_test_losses}\n",
    "\n",
    "tnn.plot_metrics(metrics=sgdm_losses, x_ticks=range(1, 4), path=\"../images/imdb-sgdm-loss.png\")"
   ]
  },
  {
   "cell_type": "code",
   "execution_count": null,
   "metadata": {},
   "outputs": [],
   "source": [
    "nesterov_metrics = tnn.get_metrics_from_file(\"../training/imdb-distil-bert-nesterov.h5\")\n",
    "nesterov_train_losses, nesterov_test_losses = nesterov_metrics.get(\"train_losses\"), nesterov_metrics.get(\"test_losses\")\n",
    "nesterov_losses = {\"train\": nesterov_train_losses, \"test\": nesterov_test_losses}\n",
    "\n",
    "tnn.plot_metrics(metrics=nesterov_losses, x_ticks=range(1, 4), path=\"../images/imdb-nesterov-loss.png\")"
   ]
  },
  {
   "cell_type": "code",
   "execution_count": null,
   "metadata": {},
   "outputs": [],
   "source": [
    "rmsprop_metrics = tnn.get_metrics_from_file(\"../training/imdb-distil-bert-rmsprop.h5\")\n",
    "rmsprop_train_losses, rmsprop_test_losses = rmsprop_metrics.get(\"train_losses\"), rmsprop_metrics.get(\"test_losses\")\n",
    "rmsprop_losses = {\"train\": rmsprop_train_losses, \"test\": rmsprop_test_losses}\n",
    "\n",
    "tnn.plot_metrics(rmsprop_losses, x_ticks=range(1, 4), path=\"../images/imdb-rmsprop-loss.png\")"
   ]
  },
  {
   "cell_type": "code",
   "execution_count": null,
   "metadata": {},
   "outputs": [],
   "source": [
    "adam_metrics = tnn.get_metrics_from_file(\"../training/imdb-distil-bert-adam.h5\")\n",
    "adam_train_losses, adam_test_losses = adam_metrics.get(\"train_losses\"), adam_metrics.get(\"test_losses\")\n",
    "adam_losses = {\"train\": adam_train_losses, \"test\": adam_test_losses}\n",
    "\n",
    "tnn.plot_metrics(adam_losses,  x_ticks=range(1, 4), path=\"../images/imdb-adam-loss.png\")"
   ]
  },
  {
   "cell_type": "code",
   "execution_count": null,
   "metadata": {},
   "outputs": [],
   "source": [
    "base_test_accs = tnn.get_metrics_from_file(\"../training/imdb-distil-bert-base.h5\").get(\"test_accs\")\n",
    "sgdm_test_accs = tnn.get_metrics_from_file(\"../training/imdb-distil-bert-sgdm.h5\").get(\"test_accs\")\n",
    "nesterov_test_accs = tnn.get_metrics_from_file(\"../training/imdb-distil-bert-nesterov.h5\").get(\"test_accs\")\n",
    "rmsprop_test_accs = tnn.get_metrics_from_file(\"../training/imdb-distil-bert-rmsprop.h5\").get(\"test_accs\")\n",
    "adam_test_accs = tnn.get_metrics_from_file(\"../training/imdb-distil-bert-adam.h5\").get(\"test_accs\")\n",
    "\n",
    "\n",
    "test_accs = {\"base\": base_test_accs, \"sgdm\": sgdm_test_accs, \"nesterov\": nesterov_test_accs, \"rmsprop\": rmsprop_test_accs, \"adam\": adam_test_accs}\n",
    "tnn.plot_metrics(metrics=test_accs, x_ticks=range(1, 4), ylabel=\"accuracy\", best_linestyle=\"--\", use_min=False, path=\"../images/imdb-test-acc.png\")"
   ]
  }
 ],
 "metadata": {
  "kernelspec": {
   "display_name": "venv",
   "language": "python",
   "name": "python3"
  },
  "language_info": {
   "codemirror_mode": {
    "name": "ipython",
    "version": 3
   },
   "file_extension": ".py",
   "mimetype": "text/x-python",
   "name": "python",
   "nbconvert_exporter": "python",
   "pygments_lexer": "ipython3",
   "version": "3.12.4"
  }
 },
 "nbformat": 4,
 "nbformat_minor": 2
}
