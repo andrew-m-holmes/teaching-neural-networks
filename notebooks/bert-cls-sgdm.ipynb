{
 "cells": [
  {
   "cell_type": "code",
   "execution_count": 1,
   "id": "36bda9a1-6884-4b87-b7da-55277b1cb170",
   "metadata": {},
   "outputs": [],
   "source": [
    "import numpy as np\n",
    "import tnn\n",
    "import torch\n",
    "import torch.nn as nn\n",
    "import torch.utils.data as data\n",
    "import logging\n",
    "\n",
    "from datasets import load_dataset, concatenate_datasets\n",
    "from transformers import RobertaTokenizer, RobertaForSequenceClassification\n",
    "\n",
    "device = (\n",
    "    \"cuda\"\n",
    "    if torch.cuda.is_available()\n",
    "    else \"mps\" if torch.backends.mps.is_available() else \"cpu\"\n",
    ")\n",
    "\n",
    "loggers = [logging.getLogger(name) for name in logging.root.manager.loggerDict]\n",
    "for logger in loggers:\n",
    "    if \"transformers\" in logger.name.lower():\n",
    "        logger.setLevel(logging.ERROR)"
   ]
  },
  {
   "cell_type": "code",
   "execution_count": 2,
   "id": "0f1805f1-f4cf-42ea-bb68-d4ebae44974a",
   "metadata": {},
   "outputs": [],
   "source": [
    "dataset = load_dataset(\"stanfordnlp/imdb\")\n",
    "train = dataset.get(\"train\")\n",
    "test = dataset.get(\"test\")"
   ]
  },
  {
   "cell_type": "code",
   "execution_count": 3,
   "id": "17b2a1da",
   "metadata": {},
   "outputs": [
    {
     "name": "stderr",
     "output_type": "stream",
     "text": [
      "/home/andrew/git/teaching-neural-networks/venv/lib/python3.12/site-packages/transformers/tokenization_utils_base.py:1601: FutureWarning: `clean_up_tokenization_spaces` was not set. It will be set to `True` by default. This behavior will be depracted in transformers v4.45, and will be then set to `False` by default. For more details check this issue: https://github.com/huggingface/transformers/issues/31884\n",
      "  warnings.warn(\n"
     ]
    }
   ],
   "source": [
    "num_labels = len(train.unique(\"label\"))\n",
    "name = \"distilbert/distilroberta-base\"\n",
    "tokenizer = RobertaTokenizer.from_pretrained(name)"
   ]
  },
  {
   "cell_type": "code",
   "execution_count": 5,
   "id": "736f24ee",
   "metadata": {},
   "outputs": [
    {
     "data": {
      "application/vnd.jupyter.widget-view+json": {
       "model_id": "6ea02a6cfc124d9f91b4675cdfe86b70",
       "version_major": 2,
       "version_minor": 0
      },
      "text/plain": [
       "Map (num_proc=2):   0%|          | 0/25000 [00:00<?, ? examples/s]"
      ]
     },
     "metadata": {},
     "output_type": "display_data"
    },
    {
     "data": {
      "application/vnd.jupyter.widget-view+json": {
       "model_id": "96f789bcd4174187af03a6c48b8a2636",
       "version_major": 2,
       "version_minor": 0
      },
      "text/plain": [
       "Map (num_proc=2):   0%|          | 0/25000 [00:00<?, ? examples/s]"
      ]
     },
     "metadata": {},
     "output_type": "display_data"
    }
   ],
   "source": [
    "def pre_process(examples):\n",
    "    reviews = list(map(lambda review: review.lower(), examples[\"text\"]))\n",
    "    examples = tokenizer(\n",
    "        reviews,\n",
    "        max_length=512,\n",
    "        truncation=True,\n",
    "        padding=\"max_length\",\n",
    "    )\n",
    "    return examples\n",
    "\n",
    "train_dataset = train.map(\n",
    "    pre_process, batched=True, num_proc=2,\n",
    ")\n",
    "test_dataset = test.map(\n",
    "    pre_process, batched=True, num_proc=2,\n",
    ")"
   ]
  },
  {
   "cell_type": "code",
   "execution_count": 8,
   "id": "9b62974d",
   "metadata": {},
   "outputs": [],
   "source": [
    "def collate_fn(batch):\n",
    "    inputs = {\"input_ids\": [], \"attention_mask\": []}\n",
    "    labels = []\n",
    "    for example in batch:\n",
    "        inputs[\"input_ids\"].append(example[\"input_ids\"])\n",
    "        inputs[\"attention_mask\"].append(example[\"attention_mask\"])\n",
    "        labels.append(example[\"label\"])\n",
    "\n",
    "    inputs[\"input_ids\"] = torch.tensor(inputs[\"input_ids\"]).long()\n",
    "    inputs[\"attention_mask\"] = torch.tensor(inputs[\"attention_mask\"]).long()\n",
    "    labels = torch.tensor(labels).long()\n",
    "    return inputs, labels"
   ]
  },
  {
   "cell_type": "code",
   "execution_count": 9,
   "id": "82df0f3e",
   "metadata": {},
   "outputs": [],
   "source": [
    "trainloader = data.DataLoader(\n",
    "    train_dataset,\n",
    "    batch_size=32,\n",
    "    collate_fn=collate_fn,\n",
    "    drop_last=False,\n",
    "    shuffle=False,\n",
    "    pin_memory=True,\n",
    "    num_workers=2,\n",
    ")\n",
    "\n",
    "testloader = data.DataLoader(\n",
    "    test_dataset,\n",
    "    batch_size=32,\n",
    "    collate_fn=collate_fn,\n",
    "    drop_last=False,\n",
    "    shuffle=False,\n",
    "    pin_memory=True,\n",
    "    num_workers=2,\n",
    ")\n",
    "\n",
    "\n",
    "def to(inputs, labels, device, non_blocking):\n",
    "    inputs = dict(\n",
    "        map(\n",
    "            lambda item: (item[0], item[1].to(device, non_blocking=non_blocking)),\n",
    "            inputs.items(),\n",
    "        )\n",
    "    )\n",
    "    labels = labels.to(device, non_blocking=True)\n",
    "    return inputs, labels"
   ]
  },
  {
   "cell_type": "code",
   "execution_count": 10,
   "id": "7e6b9153-da17-426e-8197-04246d05cfbf",
   "metadata": {},
   "outputs": [],
   "source": [
    "class DistilRoberta(tnn.Model):\n",
    "\n",
    "    def __init__(self, name, num_labels):\n",
    "        super().__init__()\n",
    "        self.distil_roberta = RobertaForSequenceClassification.from_pretrained(name, num_labels=num_labels)\n",
    "\n",
    "    def forward(self, **inputs):\n",
    "        return self.distil_roberta(**inputs)"
   ]
  },
  {
   "cell_type": "code",
   "execution_count": 11,
   "id": "7cfa0102-5255-4c62-bc66-c7d43179b30f",
   "metadata": {},
   "outputs": [],
   "source": [
    "lr = 2e-5\n",
    "weight_decay = 1e-2\n",
    "\n",
    "model = DistilRoberta(name=name, num_labels=num_labels)\n",
    "optim = torch.optim.SGD(model.parameters(), lr=lr, momentum=0.9, weight_decay=weight_decay)\n",
    "loss_fn = nn.CrossEntropyLoss()"
   ]
  },
  {
   "cell_type": "code",
   "execution_count": 9,
   "id": "400d89ba",
   "metadata": {},
   "outputs": [],
   "source": [
    "trainer = tnn.Trainer(\n",
    "    model,\n",
    "    optim,\n",
    "    loss_fn,\n",
    "    trainloader,\n",
    "    testloader,\n",
    "    epochs=10,\n",
    "    unpack_inputs=True,\n",
    "    save_weights=True,\n",
    "    device=device,\n",
    "    to_fn=to,\n",
    "    path=\"../training/imdb-distil-roberta-sgdm.h5\",\n",
    "    verbose=True,\n",
    "    profile=True,\n",
    ")"
   ]
  },
  {
   "cell_type": "code",
   "execution_count": 10,
   "id": "39b3b2e6",
   "metadata": {},
   "outputs": [
    {
     "name": "stdout",
     "output_type": "stream",
     "text": [
      "model using cuda\n",
      "training started\n",
      "(epoch: 1/10): (train loss: 1.0997, test loss: 1.0984, train acc: 33.48%, test acc: 33.27%)\n",
      "(gpu memory profile): (average allocated: 663.0 MB, average reserved: 1492.0 MB)\n",
      "(duration info): (epoch duration: 0:07:48, elapsed time: 0:07:48)\n",
      "(epoch: 2/10): (train loss: 1.0991, test loss: 1.0981, train acc: 33.75%, test acc: 34.13%)\n",
      "(gpu memory profile): (average allocated: 663.0 MB, average reserved: 1492.0 MB)\n",
      "(duration info): (epoch duration: 0:07:46, elapsed time: 0:15:35)\n",
      "(epoch: 3/10): (train loss: 1.0989, test loss: 1.0977, train acc: 33.97%, test acc: 38.26%)\n",
      "(gpu memory profile): (average allocated: 663.0 MB, average reserved: 1492.0 MB)\n",
      "(duration info): (epoch duration: 0:07:47, elapsed time: 0:23:23)\n",
      "(epoch: 4/10): (train loss: 1.0982, test loss: 1.0972, train acc: 34.41%, test acc: 39.79%)\n",
      "(gpu memory profile): (average allocated: 663.0 MB, average reserved: 1492.0 MB)\n",
      "(duration info): (epoch duration: 0:07:47, elapsed time: 0:31:10)\n",
      "(epoch: 5/10): (train loss: 1.0977, test loss: 1.0962, train acc: 34.94%, test acc: 42.51%)\n",
      "(gpu memory profile): (average allocated: 663.0 MB, average reserved: 1492.0 MB)\n",
      "(duration info): (epoch duration: 0:07:47, elapsed time: 0:38:58)\n",
      "(epoch: 6/10): (train loss: 1.0965, test loss: 1.0945, train acc: 35.93%, test acc: 44.44%)\n",
      "(gpu memory profile): (average allocated: 663.0 MB, average reserved: 1492.0 MB)\n",
      "(duration info): (epoch duration: 0:07:46, elapsed time: 0:46:44)\n",
      "(epoch: 7/10): (train loss: 1.0937, test loss: 1.0887, train acc: 37.65%, test acc: 46.13%)\n",
      "(gpu memory profile): (average allocated: 663.0 MB, average reserved: 1492.0 MB)\n",
      "(duration info): (epoch duration: 0:07:47, elapsed time: 0:54:32)\n",
      "(epoch: 8/10): (train loss: 1.0723, test loss: 0.9982, train acc: 43.65%, test acc: 56.58%)\n",
      "(gpu memory profile): (average allocated: 663.0 MB, average reserved: 1492.0 MB)\n",
      "(duration info): (epoch duration: 0:07:47, elapsed time: 1:02:19)\n",
      "(epoch: 9/10): (train loss: 0.8866, test loss: 0.7016, train acc: 60.52%, test acc: 70.69%)\n",
      "(gpu memory profile): (average allocated: 663.0 MB, average reserved: 1492.0 MB)\n",
      "(duration info): (epoch duration: 0:07:46, elapsed time: 1:10:06)\n",
      "(epoch: 10/10): (train loss: 0.7145, test loss: 0.5998, train acc: 70.08%, test acc: 75.47%)\n",
      "(gpu memory profile): (average allocated: 663.0 MB, average reserved: 1492.0 MB)\n",
      "(duration info): (epoch duration: 0:07:46, elapsed time: 1:17:52)\n",
      "training complete\n",
      "train_losses saved to ../training/snli-distil-roberta-sgd.h5/metrics/train_losses\n",
      "test_losses saved to ../training/snli-distil-roberta-sgd.h5/metrics/test_losses\n",
      "train_accs saved to ../training/snli-distil-roberta-sgd.h5/metrics/train_accs\n",
      "test_accs saved to ../training/snli-distil-roberta-sgd.h5/metrics/test_accs\n",
      "epoch_times saved to ../training/snli-distil-roberta-sgd.h5/metrics/epoch_times\n"
     ]
    }
   ],
   "source": [
    "base_metrics = trainer.train()"
   ]
  }
 ],
 "metadata": {
  "kernelspec": {
   "display_name": "Python 3 (ipykernel)",
   "language": "python",
   "name": "python3"
  },
  "language_info": {
   "codemirror_mode": {
    "name": "ipython",
    "version": 3
   },
   "file_extension": ".py",
   "mimetype": "text/x-python",
   "name": "python",
   "nbconvert_exporter": "python",
   "pygments_lexer": "ipython3",
   "version": "3.12.4"
  }
 },
 "nbformat": 4,
 "nbformat_minor": 5
}
