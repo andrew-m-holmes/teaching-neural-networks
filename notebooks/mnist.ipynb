{
 "cells": [
  {
   "cell_type": "code",
   "execution_count": 1,
   "id": "571b0449-b5b7-4a9c-89cb-e0f8e12a61d2",
   "metadata": {},
   "outputs": [],
   "source": [
    "import numpy as np\n",
    "import torch\n",
    "import torch.nn as nn\n",
    "import torch.utils.data as data\n",
    "import torch.nn.functional as f\n",
    "\n",
    "from datasets import load_dataset \n",
    "from torch.utils.data import DataLoader\n",
    "from tnn import Trainer, Model, Landscape"
   ]
  },
  {
   "cell_type": "code",
   "execution_count": 2,
   "id": "8b4608e2-139f-4dfc-8936-4f69c7b075f6",
   "metadata": {},
   "outputs": [],
   "source": [
    "dataset = load_dataset(\"ylecun/mnist\", num_proc=2)\n",
    "train = dataset.get(\"train\")\n",
    "test = dataset.get(\"test\")"
   ]
  },
  {
   "cell_type": "code",
   "execution_count": 3,
   "id": "b48c375d-702b-4972-86c3-77e2c194dccf",
   "metadata": {},
   "outputs": [],
   "source": [
    "def to_numpy(example):\n",
    "    arr = np.reshape(example[\"image\"], -1) / 255.0\n",
    "    example[\"input\"] = arr\n",
    "    return example\n",
    "\n",
    "train_dataset = train.map(to_numpy, num_proc=2).select_columns([\"input\", \"label\"])\n",
    "test_dataset = test.map(to_numpy, num_proc=2).select_columns([\"input\", \"label\"])"
   ]
  },
  {
   "cell_type": "code",
   "execution_count": 4,
   "id": "48769364-b4d3-421c-996a-cd55523d85a6",
   "metadata": {},
   "outputs": [],
   "source": [
    "def collate_fn(batch):\n",
    "    inputs = torch.tensor([ex[\"input\"] for ex in batch]).float()\n",
    "    labels = torch.tensor([ex[\"label\"] for ex in batch]).long()\n",
    "    return inputs, labels\n",
    "\n",
    "trainloader = data.DataLoader(train_dataset, batch_size=128, shuffle=True, drop_last=False, collate_fn=collate_fn, num_workers=2)\n",
    "testloader = data.DataLoader(test_dataset, batch_size=1024, shuffle=False, drop_last=False, collate_fn=collate_fn, num_workers=2)"
   ]
  },
  {
   "cell_type": "code",
   "execution_count": 5,
   "id": "a160b8da-2a9c-4a34-ab79-38e19e8af72e",
   "metadata": {},
   "outputs": [],
   "source": [
    "class MLP(nn.Module):\n",
    "\n",
    "    def __init__(self):\n",
    "        super().__init__()\n",
    "        self.linear_1 = nn.Linear(784, 512)\n",
    "        self.drop_1 = nn.Dropout(0.5)\n",
    "        self.linear_2 = nn.Linear(512, 512)\n",
    "        self.drop_2 = nn.Dropout(0.25)\n",
    "        self.linear_3 = nn.Linear(512, 10)\n",
    "\n",
    "    def forward(self, x):\n",
    "        x = self.drop_1(f.relu(self.linear_1(x)))\n",
    "        x = self.drop_2(f.relu(self.linear_2(x)))\n",
    "        return dict(logits=f.relu(self.linear_3(x)))"
   ]
  },
  {
   "cell_type": "code",
   "execution_count": 6,
   "id": "411e3fb2-cc90-443a-8bf0-cbaa8e76dfd2",
   "metadata": {},
   "outputs": [],
   "source": [
    "model = Model(MLP())\n",
    "loss_fn = nn.CrossEntropyLoss()\n",
    "optim = torch.optim.SGD(model.parameters(), momentum=0.9)"
   ]
  },
  {
   "cell_type": "code",
   "execution_count": null,
   "id": "34bbe022-f35b-4a62-ae98-ff29cdf9cd18",
   "metadata": {},
   "outputs": [],
   "source": [
    "trainer = Trainer(model, optim, loss_fn, trainloader, testloader, path=\"./train.h5\", verbose=True)"
   ]
  },
  {
   "cell_type": "code",
   "execution_count": null,
   "id": "5b78b981-c0bc-41c2-a3ae-fc9891613bfe",
   "metadata": {},
   "outputs": [],
   "source": [
    "metrics = trainer.train(epochs=3)"
   ]
  },
  {
   "cell_type": "code",
   "execution_count": 7,
   "id": "fca9cbe5-2d8c-482e-a64b-455f67717891",
   "metadata": {},
   "outputs": [],
   "source": [
    "model = Model(MLP())\n",
    "landscape = Landscape.from_file(\"./train.h5\", model, loss_fn, testloader, device=\"cuda\", path=\"./train.h5\", verbose=25)"
   ]
  },
  {
   "cell_type": "code",
   "execution_count": null,
   "id": "8417bb57-20f5-49a4-bba3-a5ec23cc8899",
   "metadata": {},
   "outputs": [
    {
     "name": "stdout",
     "output_type": "stream",
     "text": [
      "meshgrid creation using pca\n",
      "model using cuda\n",
      "meshgrid creation started\n",
      "(iter: 25): iter loss: 4.2272\n"
     ]
    }
   ],
   "source": [
    "data = landscape.create_meshgrid(resolution=25, endpoints=(-10.0, 10.0), mode=\"pca\")"
   ]
  },
  {
   "cell_type": "code",
   "execution_count": null,
   "id": "92193738-0693-42ec-8082-1542e710ea05",
   "metadata": {},
   "outputs": [],
   "source": []
  }
 ],
 "metadata": {
  "kernelspec": {
   "display_name": "Python 3 (ipykernel)",
   "language": "python",
   "name": "python3"
  },
  "language_info": {
   "codemirror_mode": {
    "name": "ipython",
    "version": 3
   },
   "file_extension": ".py",
   "mimetype": "text/x-python",
   "name": "python",
   "nbconvert_exporter": "python",
   "pygments_lexer": "ipython3",
   "version": "3.12.4"
  }
 },
 "nbformat": 4,
 "nbformat_minor": 5
}
