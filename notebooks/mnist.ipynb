{
 "cells": [
  {
   "cell_type": "code",
   "execution_count": 1,
   "id": "571b0449-b5b7-4a9c-89cb-e0f8e12a61d2",
   "metadata": {},
   "outputs": [],
   "source": [
    "import numpy as np\n",
    "import tnn\n",
    "import torch\n",
    "import torch.nn as nn\n",
    "import torch.utils.data as data\n",
    "import torch.nn.functional as f\n",
    "\n",
    "from datasets import load_dataset\n",
    "from torch.utils.data import DataLoader\n",
    "\n",
    "device = \"cuda\" if torch.cuda.is_available() else \"mps\" if torch.backends.mps.is_available() else \"cpu\""
   ]
  },
  {
   "cell_type": "code",
   "execution_count": 2,
   "id": "8b4608e2-139f-4dfc-8936-4f69c7b075f6",
   "metadata": {},
   "outputs": [],
   "source": [
    "dataset = load_dataset(\"ylecun/mnist\", num_proc=2)\n",
    "train_size = 10000\n",
    "test_size = 1000\n",
    "\n",
    "train = dataset.get(\"train\")\n",
    "test = dataset.get(\"test\")\n",
    "\n",
    "train_indices = np.random.choice(len(train), size=train_size, replace=False)\n",
    "test_indices = np.random.choice(len(test), size=test_size, replace=False)\n",
    "\n",
    "train = train.select(train_indices)\n",
    "test = test.select(test_indices)"
   ]
  },
  {
   "cell_type": "code",
   "execution_count": 3,
   "id": "b48c375d-702b-4972-86c3-77e2c194dccf",
   "metadata": {},
   "outputs": [
    {
     "data": {
      "application/vnd.jupyter.widget-view+json": {
       "model_id": "bfa663a2a1924b5ba94ba96e71a8bc01",
       "version_major": 2,
       "version_minor": 0
      },
      "text/plain": [
       "Map (num_proc=2):   0%|          | 0/10000 [00:00<?, ? examples/s]"
      ]
     },
     "metadata": {},
     "output_type": "display_data"
    },
    {
     "data": {
      "application/vnd.jupyter.widget-view+json": {
       "model_id": "3547ac50537e4c0794e5ea0996acbfc0",
       "version_major": 2,
       "version_minor": 0
      },
      "text/plain": [
       "Map (num_proc=2):   0%|          | 0/1000 [00:00<?, ? examples/s]"
      ]
     },
     "metadata": {},
     "output_type": "display_data"
    }
   ],
   "source": [
    "def to_numpy(example):\n",
    "    arr = np.reshape(example[\"image\"], -1) / 255.0\n",
    "    example[\"input\"] = arr\n",
    "    return example\n",
    "\n",
    "\n",
    "train_dataset = train.map(to_numpy, num_proc=2).select_columns([\"input\", \"label\"])\n",
    "test_dataset = test.map(to_numpy, num_proc=2).select_columns([\"input\", \"label\"])"
   ]
  },
  {
   "cell_type": "code",
   "execution_count": 4,
   "id": "48769364-b4d3-421c-996a-cd55523d85a6",
   "metadata": {},
   "outputs": [],
   "source": [
    "def collate_fn(batch):\n",
    "    inputs = torch.tensor([ex[\"input\"] for ex in batch]).float()\n",
    "    labels = torch.tensor([ex[\"label\"] for ex in batch]).long()\n",
    "    return inputs, labels\n",
    "\n",
    "trainloader = data.DataLoader(\n",
    "    train_dataset,\n",
    "    batch_size=len(train_dataset),\n",
    "    shuffle=True,\n",
    "    drop_last=False,\n",
    "    collate_fn=collate_fn,\n",
    "    num_workers=2,\n",
    ")\n",
    "testloader = data.DataLoader(\n",
    "    test_dataset,\n",
    "    batch_size=len(test_dataset),\n",
    "    shuffle=False,\n",
    "    drop_last=False,\n",
    "    collate_fn=collate_fn,\n",
    "    num_workers=2,\n",
    ")"
   ]
  },
  {
   "cell_type": "code",
   "execution_count": 5,
   "id": "a160b8da-2a9c-4a34-ab79-38e19e8af72e",
   "metadata": {},
   "outputs": [],
   "source": [
    "class MLP(nn.Module):\n",
    "\n",
    "    def __init__(self):\n",
    "        super().__init__()\n",
    "        self.linear_1 = nn.Linear(784, 512)\n",
    "        self.norm_1 = nn.LayerNorm(512)\n",
    "        self.drop_1 = nn.Dropout(0.4)\n",
    "        self.linear_2 = nn.Linear(512, 512)\n",
    "        self.norm_2 = nn.LayerNorm(512)\n",
    "        self.drop_2 = nn.Dropout(0.2)\n",
    "        self.linear_3 = nn.Linear(512, 512)\n",
    "        self.norm_3 = nn.LayerNorm(512)\n",
    "        self.drop_3 = nn.Dropout(0.2)\n",
    "        self.linear_4 = nn.Linear(512, 10)\n",
    "\n",
    "    def forward(self, x):\n",
    "        x = self.norm_1(self.linear_1(x))\n",
    "        x = self.drop_1(f.relu(x))\n",
    "\n",
    "        x = self.norm_2(self.linear_2(x))\n",
    "        x = self.drop_2(f.relu(x))\n",
    "        \n",
    "        x = self.norm_3(self.linear_3(x))\n",
    "        x = self.drop_3(f.relu(x))\n",
    "\n",
    "        x = f.relu(self.linear_4(x))\n",
    "        return {\"logits\": x}"
   ]
  },
  {
   "cell_type": "markdown",
   "id": "b173cf89-c448-41a2-9ab1-f00385938714",
   "metadata": {},
   "source": [
    "## Batch Gradient Descent"
   ]
  },
  {
   "cell_type": "code",
   "execution_count": 6,
   "id": "411e3fb2-cc90-443a-8bf0-cbaa8e76dfd2",
   "metadata": {},
   "outputs": [],
   "source": [
    "lr = 5e-2\n",
    "model = tnn.Model(MLP())\n",
    "loss_fn = nn.CrossEntropyLoss()\n",
    "optim = torch.optim.SGD(model.parameters(), lr=lr)"
   ]
  },
  {
   "cell_type": "code",
   "execution_count": 7,
   "id": "34bbe022-f35b-4a62-ae98-ff29cdf9cd18",
   "metadata": {},
   "outputs": [],
   "source": [
    "trainer = tnn.Trainer(\n",
    "    model, optim, loss_fn, trainloader, testloader, path=\"./batch.h5\", device=device, verbose=10\n",
    ")"
   ]
  },
  {
   "cell_type": "code",
   "execution_count": null,
   "id": "5b78b981-c0bc-41c2-a3ae-fc9891613bfe",
   "metadata": {},
   "outputs": [
    {
     "name": "stdout",
     "output_type": "stream",
     "text": [
      "model using cuda\n",
      "weights saved to ./batch.h5/trajectory/weights-epoch-0\n",
      "training started\n",
      "(epoch: 15): (train loss: 1.5027, test loss: 1.0217, train acc: 0.6033, test acc: 0.7430)\n",
      "weights saved to ./batch.h5/trajectory/weights-epoch-15\n"
     ]
    }
   ],
   "source": [
    "metrics = trainer.train(epochs=100)"
   ]
  },
  {
   "cell_type": "markdown",
   "id": "b6b4a9e4-11b5-4e76-aab7-028f73a8db59",
   "metadata": {},
   "source": [
    "## Mini-batch Gradient Descent"
   ]
  },
  {
   "cell_type": "code",
   "execution_count": null,
   "id": "49995b56-5caf-4a6c-8955-05793915bd4a",
   "metadata": {},
   "outputs": [],
   "source": [
    "trainloader = data.DataLoader(\n",
    "    train_dataset,\n",
    "    batch_size=128,\n",
    "    shuffle=True,\n",
    "    drop_last=False,\n",
    "    collate_fn=collate_fn,\n",
    "    num_workers=2,\n",
    ")"
   ]
  },
  {
   "cell_type": "code",
   "execution_count": null,
   "id": "4297b6b4-08df-47ed-a0dd-fef070b6cb50",
   "metadata": {},
   "outputs": [],
   "source": [
    "model = tnn.Model(MLP())\n",
    "optim = torch.optim.SGD(model.parameters(), lr=lr)"
   ]
  },
  {
   "cell_type": "code",
   "execution_count": null,
   "id": "1a9c8eef-1331-4b68-b82b-775f43b9fc66",
   "metadata": {},
   "outputs": [],
   "source": [
    "trainer = tnn.Trainer(\n",
    "    model, optim, loss_fn, trainloader, testloader, path=\"./mini-batch.h5\", device=device, verbose=10\n",
    ")"
   ]
  },
  {
   "cell_type": "code",
   "execution_count": null,
   "id": "e32f905c-b486-4852-83ba-198c3c2d2703",
   "metadata": {},
   "outputs": [],
   "source": [
    "metrics = trainer.train(epochs=100)"
   ]
  },
  {
   "cell_type": "markdown",
   "id": "37b8dc8c-d3d5-4a37-8a61-897a24bcdab4",
   "metadata": {},
   "source": [
    "## Stochastic Gradient Descent"
   ]
  },
  {
   "cell_type": "code",
   "execution_count": null,
   "id": "ee414630-64a8-4c73-8b8f-08bfd911636a",
   "metadata": {},
   "outputs": [],
   "source": [
    "inputs = torch.tensor([ex[\"input\"] for ex in train_dataset]).float().to(device)\n",
    "labels = torch.tensor([ex[\"label\"] for ex in train_dataset]).long().to(device)\n",
    "train_tensor_dataset = data.TensorDataset(inputs, labels)\n",
    "\n",
    "trainloader = data.DataLoader(\n",
    "    train_tensor_dataset,\n",
    "    batch_size=1,\n",
    "    shuffle=True,\n",
    "    drop_last=False,\n",
    "    collate_fn=None,\n",
    "    num_workers=0,\n",
    ")"
   ]
  },
  {
   "cell_type": "code",
   "execution_count": null,
   "id": "dd0f97d6-14d1-4eb7-b5a0-d2cc10bf8e24",
   "metadata": {},
   "outputs": [],
   "source": [
    "model = tnn.Model(MLP())\n",
    "optim = torch.optim.SGD(model.parameters(), lr=lr)"
   ]
  },
  {
   "cell_type": "code",
   "execution_count": null,
   "id": "8462c21b-e1b3-418a-bd72-31de88f65b83",
   "metadata": {},
   "outputs": [],
   "source": [
    "trainer = tnn.Trainer(\n",
    "    model, optim, loss_fn, trainloader, testloader, path=\"./sgd.h5\", device=device, verbose=10\n",
    ")"
   ]
  },
  {
   "cell_type": "code",
   "execution_count": null,
   "id": "fd46f0f7-ed7b-4431-9d6e-082fe64b53b1",
   "metadata": {},
   "outputs": [],
   "source": [
    "metrics = trainer.train(epochs=100)"
   ]
  }
 ],
 "metadata": {
  "kernelspec": {
   "display_name": "Python 3 (ipykernel)",
   "language": "python",
   "name": "python3"
  },
  "language_info": {
   "codemirror_mode": {
    "name": "ipython",
    "version": 3
   },
   "file_extension": ".py",
   "mimetype": "text/x-python",
   "name": "python",
   "nbconvert_exporter": "python",
   "pygments_lexer": "ipython3",
   "version": "3.12.4"
  }
 },
 "nbformat": 4,
 "nbformat_minor": 5
}
