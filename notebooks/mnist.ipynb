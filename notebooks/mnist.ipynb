{
 "cells": [
  {
   "cell_type": "code",
   "execution_count": null,
   "id": "571b0449-b5b7-4a9c-89cb-e0f8e12a61d2",
   "metadata": {},
   "outputs": [],
   "source": [
    "import numpy as np\n",
    "import tnn\n",
    "import torch\n",
    "import torch.nn as nn\n",
    "import torch.utils.data as data\n",
    "import torch.nn.functional as f\n",
    "\n",
    "from datasets import load_dataset\n",
    "from typing import Dict\n",
    "\n",
    "\n",
    "device = (\n",
    "    \"cuda\"\n",
    "    if torch.cuda.is_available()\n",
    "    else \"mps\" if torch.backends.mps.is_available() else \"cpu\"\n",
    ")"
   ]
  },
  {
   "cell_type": "code",
   "execution_count": 2,
   "id": "8b4608e2-139f-4dfc-8936-4f69c7b075f6",
   "metadata": {},
   "outputs": [],
   "source": [
    "dataset = load_dataset(\"ylecun/mnist\", num_proc=2)\n",
    "train_size = 60000\n",
    "test_size = 10000\n",
    "\n",
    "train = dataset.get(\"train\")\n",
    "test = dataset.get(\"test\")\n",
    "\n",
    "train_indices = np.random.choice(len(train), size=train_size, replace=False)\n",
    "test_indices = np.random.choice(len(test), size=test_size, replace=False)\n",
    "\n",
    "train = train.select(train_indices)\n",
    "test = test.select(test_indices)"
   ]
  },
  {
   "cell_type": "code",
   "execution_count": 3,
   "id": "b48c375d-702b-4972-86c3-77e2c194dccf",
   "metadata": {},
   "outputs": [
    {
     "data": {
      "application/vnd.jupyter.widget-view+json": {
       "model_id": "3838f5b3e82f43f9ae9c18b6da6a90a3",
       "version_major": 2,
       "version_minor": 0
      },
      "text/plain": [
       "Map (num_proc=2):   0%|          | 0/60000 [00:00<?, ? examples/s]"
      ]
     },
     "metadata": {},
     "output_type": "display_data"
    },
    {
     "data": {
      "application/vnd.jupyter.widget-view+json": {
       "model_id": "60ed70812fcc4f44b52a85c5fb99a1fe",
       "version_major": 2,
       "version_minor": 0
      },
      "text/plain": [
       "Map (num_proc=2):   0%|          | 0/10000 [00:00<?, ? examples/s]"
      ]
     },
     "metadata": {},
     "output_type": "display_data"
    }
   ],
   "source": [
    "def to_numpy(example):\n",
    "    arr = np.reshape(example[\"image\"], -1) / 255.0\n",
    "    example[\"input\"] = arr\n",
    "    return example\n",
    "\n",
    "\n",
    "train_dataset = train.map(to_numpy, num_proc=2).select_columns([\"input\", \"label\"])\n",
    "test_dataset = test.map(to_numpy, num_proc=2).select_columns([\"input\", \"label\"])"
   ]
  },
  {
   "cell_type": "code",
   "execution_count": 4,
   "id": "48769364-b4d3-421c-996a-cd55523d85a6",
   "metadata": {},
   "outputs": [],
   "source": [
    "def collate_fn(batch):\n",
    "    inputs = torch.tensor([ex[\"input\"] for ex in batch]).float()\n",
    "    labels = torch.tensor([ex[\"label\"] for ex in batch]).long()\n",
    "    return inputs, labels\n",
    "\n",
    "\n",
    "trainloader = data.DataLoader(\n",
    "    train_dataset,\n",
    "    batch_size=len(train_dataset),\n",
    "    shuffle=True,\n",
    "    drop_last=False,\n",
    "    collate_fn=collate_fn,\n",
    "    pin_memory=True,\n",
    "    num_workers=2,\n",
    ")\n",
    "testloader = data.DataLoader(\n",
    "    test_dataset,\n",
    "    batch_size=len(test_dataset),\n",
    "    shuffle=False,\n",
    "    drop_last=False,\n",
    "    collate_fn=collate_fn,\n",
    "    pin_memory=True,\n",
    "    num_workers=2,\n",
    ")"
   ]
  },
  {
   "cell_type": "code",
   "execution_count": null,
   "id": "ad3b3b17-5fcd-4540-8fa6-d34d53dc49f4",
   "metadata": {},
   "outputs": [],
   "source": [
    "class MLP(tnn.Model):\n",
    "\n",
    "    def __init__(self) -> None:\n",
    "        super().__init__()\n",
    "        self.linear_1 = nn.Linear(28 * 28, 512)\n",
    "        self.norm_1 = nn.LayerNorm(512)\n",
    "        self.drop_1 = nn.Dropout(0.4)\n",
    "        self.linear_2 = nn.Linear(512, 512)\n",
    "        self.norm_2 = nn.LayerNorm(512)\n",
    "        self.drop_2 = nn.Dropout(0.2)\n",
    "        self.linear_3 = nn.Linear(512, 512)\n",
    "        self.norm_3 = nn.LayerNorm(512)\n",
    "        self.linear_4 = nn.Linear(512, 10)\n",
    "\n",
    "    def forward(self, x: torch.Tensor) -> Dict[str, torch.Tensor]:\n",
    "        x = self.norm_1(self.linear_1(x))\n",
    "        x = self.drop_1(f.relu(x))\n",
    "\n",
    "        x = self.norm_2(self.linear_2(x))\n",
    "        x = self.drop_2(f.relu(x))\n",
    "\n",
    "        x = self.norm_3(self.linear_3(x))\n",
    "        x = self.linear_4(f.relu(x))\n",
    "        return {\"logits\": x}"
   ]
  },
  {
   "cell_type": "markdown",
   "id": "b173cf89-c448-41a2-9ab1-f00385938714",
   "metadata": {},
   "source": [
    "## Batch Gradient Descent"
   ]
  },
  {
   "cell_type": "code",
   "execution_count": 5,
   "id": "411e3fb2-cc90-443a-8bf0-cbaa8e76dfd2",
   "metadata": {},
   "outputs": [],
   "source": [
    "lr = 1e-1\n",
    "loss_fn = nn.CrossEntropyLoss()\n",
    "model = MLP()\n",
    "optim = torch.optim.SGD(model.parameters(), lr=lr)"
   ]
  },
  {
   "cell_type": "code",
   "execution_count": null,
   "id": "34bbe022-f35b-4a62-ae98-ff29cdf9cd18",
   "metadata": {},
   "outputs": [],
   "source": [
    "trainer = tnn.Trainer(\n",
    "    model,\n",
    "    optim,\n",
    "    loss_fn,\n",
    "    trainloader,\n",
    "    testloader,\n",
    "    epochs=50,\n",
    "    unpack_inputs=False,\n",
    "    device=device,\n",
    "    pin_memory=True,\n",
    "    non_blocking=True,\n",
    "    path=\"../training/mnist-batch.h5\",\n",
    "    verbose=10,\n",
    "    profile=True,\n",
    ")"
   ]
  },
  {
   "cell_type": "code",
   "execution_count": 7,
   "id": "5b78b981-c0bc-41c2-a3ae-fc9891613bfe",
   "metadata": {},
   "outputs": [
    {
     "name": "stdout",
     "output_type": "stream",
     "text": [
      "model using cuda\n",
      "training started\n",
      "(epoch: 10/50): (train loss: 1.4240, test loss: 0.9099, train acc: 52.52%, test acc: 70.87%)\n",
      "(gpu memory profile): (average allocated: 211.0 MB, average reserved: 1503.0 MB)\n",
      "(epoch: 20/50): (train loss: 0.8854, test loss: 0.7624, train acc: 70.61%, test acc: 73.76%)\n",
      "(gpu memory profile): (average allocated: 211.0 MB, average reserved: 1503.0 MB)\n",
      "(epoch: 30/50): (train loss: 0.5818, test loss: 0.5544, train acc: 82.04%, test acc: 82.56%)\n",
      "(gpu memory profile): (average allocated: 211.0 MB, average reserved: 1503.0 MB)\n",
      "(epoch: 40/50): (train loss: 0.6385, test loss: 0.4184, train acc: 78.42%, test acc: 86.86%)\n",
      "(gpu memory profile): (average allocated: 211.0 MB, average reserved: 1503.0 MB)\n",
      "(epoch: 50/50): (train loss: 0.3498, test loss: 0.2704, train acc: 89.68%, test acc: 91.77%)\n",
      "(gpu memory profile): (average allocated: 211.0 MB, average reserved: 1503.0 MB)\n",
      "training complete\n",
      "train_losses saved to ../training/mnist-batch.h5/metrics/train_losses\n",
      "test_losses saved to ../training/mnist-batch.h5/metrics/test_losses\n",
      "train_accs saved to ../training/mnist-batch.h5/metrics/train_accs\n",
      "test_accs saved to ../training/mnist-batch.h5/metrics/test_accs\n"
     ]
    }
   ],
   "source": [
    "batch_metrics = trainer.train()"
   ]
  },
  {
   "cell_type": "markdown",
   "id": "37b8dc8c-d3d5-4a37-8a61-897a24bcdab4",
   "metadata": {},
   "source": [
    "## Stochastic Gradient Descent"
   ]
  },
  {
   "cell_type": "code",
   "execution_count": 22,
   "id": "ee414630-64a8-4c73-8b8f-08bfd911636a",
   "metadata": {},
   "outputs": [],
   "source": [
    "inputs = (\n",
    "    torch.tensor([ex[\"input\"] for ex in train_dataset])\n",
    "    .float()\n",
    "    .to(device, non_blocking=True)\n",
    ")\n",
    "labels = (\n",
    "    torch.tensor([ex[\"label\"] for ex in train_dataset])\n",
    "    .long()\n",
    "    .to(device, non_blocking=True)\n",
    ")\n",
    "train_tensor_dataset = data.TensorDataset(inputs, labels)\n",
    "\n",
    "trainloader = data.DataLoader(\n",
    "    train_tensor_dataset,\n",
    "    batch_size=1,\n",
    "    shuffle=True,\n",
    "    num_workers=0,\n",
    "    drop_last=False,\n",
    "    pin_memory=False,\n",
    ")"
   ]
  },
  {
   "cell_type": "code",
   "execution_count": 23,
   "id": "dd0f97d6-14d1-4eb7-b5a0-d2cc10bf8e24",
   "metadata": {},
   "outputs": [],
   "source": [
    "model = MLP()\n",
    "optim = torch.optim.SGD(model.parameters(), lr=lr)"
   ]
  },
  {
   "cell_type": "code",
   "execution_count": null,
   "id": "8462c21b-e1b3-418a-bd72-31de88f65b83",
   "metadata": {},
   "outputs": [],
   "source": [
    "trainer = tnn.Trainer(\n",
    "    model,\n",
    "    optim,\n",
    "    loss_fn,\n",
    "    trainloader,\n",
    "    testloader,\n",
    "    epochs=50,\n",
    "    unpack_inputs=False,\n",
    "    device=device,\n",
    "    pin_memory=True,\n",
    "    non_blocking=True,\n",
    "    path=\"../training/mnist-sgd.h5\",\n",
    "    verbose=10,\n",
    ")"
   ]
  },
  {
   "cell_type": "code",
   "execution_count": 25,
   "id": "fd46f0f7-ed7b-4431-9d6e-082fe64b53b1",
   "metadata": {},
   "outputs": [
    {
     "name": "stdout",
     "output_type": "stream",
     "text": [
      "model using cuda\n",
      "training started\n",
      "(epoch: 10/50): (train loss: 0.0837, test loss: 0.1049, train acc: 97.55%, test acc: 97.09%)\n",
      "(gpu memory profile): (average allocated: 400.0 MB, average reserved: 1691.0 MB)\n",
      "(epoch: 20/50): (train loss: 0.0530, test loss: 0.0785, train acc: 98.40%, test acc: 98.15%)\n",
      "(gpu memory profile): (average allocated: 400.0 MB, average reserved: 1691.0 MB)\n",
      "(epoch: 30/50): (train loss: 0.0382, test loss: 0.0773, train acc: 98.85%, test acc: 98.39%)\n",
      "(gpu memory profile): (average allocated: 400.0 MB, average reserved: 1691.0 MB)\n",
      "(epoch: 40/50): (train loss: 0.0304, test loss: 0.0700, train acc: 99.03%, test acc: 98.45%)\n",
      "(gpu memory profile): (average allocated: 400.0 MB, average reserved: 1691.0 MB)\n",
      "(epoch: 50/50): (train loss: 0.0264, test loss: 0.0692, train acc: 99.19%, test acc: 98.65%)\n",
      "(gpu memory profile): (average allocated: 400.0 MB, average reserved: 1691.0 MB)\n",
      "training complete\n",
      "train_losses saved to ../training/mnist-sgd.h5/metrics/train_losses\n",
      "test_losses saved to ../training/mnist-sgd.h5/metrics/test_losses\n",
      "train_accs saved to ../training/mnist-sgd.h5/metrics/train_accs\n",
      "test_accs saved to ../training/mnist-sgd.h5/metrics/test_accs\n"
     ]
    }
   ],
   "source": [
    "sgd_metrics = trainer.train()"
   ]
  },
  {
   "cell_type": "markdown",
   "id": "b6b4a9e4-11b5-4e76-aab7-028f73a8db59",
   "metadata": {},
   "source": [
    "## Mini-batch Gradient Descent"
   ]
  },
  {
   "cell_type": "markdown",
   "id": "7e929e07-d056-41ab-a1b2-92a4a8e47d86",
   "metadata": {},
   "source": [
    "### Batch size 32"
   ]
  },
  {
   "cell_type": "code",
   "execution_count": 26,
   "id": "49995b56-5caf-4a6c-8955-05793915bd4a",
   "metadata": {},
   "outputs": [],
   "source": [
    "trainloader = data.DataLoader(\n",
    "    train_dataset,\n",
    "    batch_size=32,\n",
    "    shuffle=True,\n",
    "    drop_last=False,\n",
    "    collate_fn=collate_fn,\n",
    "    pin_memory=True,\n",
    "    num_workers=2,\n",
    ")"
   ]
  },
  {
   "cell_type": "code",
   "execution_count": 27,
   "id": "4297b6b4-08df-47ed-a0dd-fef070b6cb50",
   "metadata": {},
   "outputs": [],
   "source": [
    "model = MLP()\n",
    "optim = torch.optim.SGD(model.parameters(), lr=lr)"
   ]
  },
  {
   "cell_type": "code",
   "execution_count": null,
   "id": "1a9c8eef-1331-4b68-b82b-775f43b9fc66",
   "metadata": {},
   "outputs": [],
   "source": [
    "trainer = tnn.Trainer(\n",
    "    model,\n",
    "    optim,\n",
    "    loss_fn,\n",
    "    trainloader,\n",
    "    testloader,\n",
    "    epochs=50,\n",
    "    unpack_inputs=False,\n",
    "    device=device,\n",
    "    pin_memory=True,\n",
    "    non_blocking=True,\n",
    "    path=\"../training/mnist-mini-batch-32.h5\",\n",
    "    verbose=10,\n",
    ")"
   ]
  },
  {
   "cell_type": "code",
   "execution_count": 29,
   "id": "e32f905c-b486-4852-83ba-198c3c2d2703",
   "metadata": {},
   "outputs": [
    {
     "name": "stdout",
     "output_type": "stream",
     "text": [
      "model using cuda\n",
      "training started\n",
      "(epoch: 10/50): (train loss: 0.0563, test loss: 0.0594, train acc: 98.19%, test acc: 98.19%)\n",
      "(gpu memory profile): (average allocated: 400.0 MB, average reserved: 1691.0 MB)\n",
      "(epoch: 20/50): (train loss: 0.0295, test loss: 0.0559, train acc: 99.00%, test acc: 98.53%)\n",
      "(gpu memory profile): (average allocated: 400.0 MB, average reserved: 1691.0 MB)\n",
      "(epoch: 30/50): (train loss: 0.0204, test loss: 0.0555, train acc: 99.33%, test acc: 98.54%)\n",
      "(gpu memory profile): (average allocated: 400.0 MB, average reserved: 1691.0 MB)\n",
      "(epoch: 40/50): (train loss: 0.0149, test loss: 0.0537, train acc: 99.49%, test acc: 98.64%)\n",
      "(gpu memory profile): (average allocated: 400.0 MB, average reserved: 1691.0 MB)\n",
      "(epoch: 50/50): (train loss: 0.0135, test loss: 0.0678, train acc: 99.53%, test acc: 98.56%)\n",
      "(gpu memory profile): (average allocated: 400.0 MB, average reserved: 1691.0 MB)\n",
      "training complete\n",
      "train_losses saved to ../training/mnist-mini-batch-32.h5/metrics/train_losses\n",
      "test_losses saved to ../training/mnist-mini-batch-32.h5/metrics/test_losses\n",
      "train_accs saved to ../training/mnist-mini-batch-32.h5/metrics/train_accs\n",
      "test_accs saved to ../training/mnist-mini-batch-32.h5/metrics/test_accs\n"
     ]
    }
   ],
   "source": [
    "mini_batch_32_metrics = trainer.train()"
   ]
  },
  {
   "cell_type": "markdown",
   "id": "4bb0d8a5-468c-4412-93ba-58731be95d13",
   "metadata": {},
   "source": [
    "### Batch size 64"
   ]
  },
  {
   "cell_type": "code",
   "execution_count": 30,
   "id": "267e59aa-2847-4eb0-8e66-0f574ef24fe8",
   "metadata": {},
   "outputs": [],
   "source": [
    "trainloader = data.DataLoader(\n",
    "    train_dataset,\n",
    "    batch_size=64,\n",
    "    shuffle=True,\n",
    "    drop_last=False,\n",
    "    collate_fn=collate_fn,\n",
    "    pin_memory=True,\n",
    "    num_workers=2,\n",
    ")"
   ]
  },
  {
   "cell_type": "code",
   "execution_count": 31,
   "id": "ec7b3df6-392c-4544-ac65-f32f76941c67",
   "metadata": {},
   "outputs": [],
   "source": [
    "model = MLP()\n",
    "optim = torch.optim.SGD(model.parameters(), lr=lr)"
   ]
  },
  {
   "cell_type": "code",
   "execution_count": null,
   "id": "ae69ad59-b598-45d5-8983-921d8ae2ecfe",
   "metadata": {},
   "outputs": [],
   "source": [
    "trainer = tnn.Trainer(\n",
    "    model,\n",
    "    optim,\n",
    "    loss_fn,\n",
    "    trainloader,\n",
    "    testloader,\n",
    "    epochs=50,\n",
    "    unpack_inputs=False,\n",
    "    device=device,\n",
    "    pin_memory=True,\n",
    "    non_blocking=True,\n",
    "    path=\"../training/mnist-mini-batch-64.h5\",\n",
    "    verbose=10,\n",
    ")"
   ]
  },
  {
   "cell_type": "code",
   "execution_count": 33,
   "id": "2694085b-6b60-420e-8e9b-6e287f41b2f7",
   "metadata": {},
   "outputs": [
    {
     "name": "stdout",
     "output_type": "stream",
     "text": [
      "model using cuda\n",
      "training started\n",
      "(epoch: 10/50): (train loss: 0.0582, test loss: 0.0648, train acc: 98.01%, test acc: 98.16%)\n",
      "(gpu memory profile): (average allocated: 401.0 MB, average reserved: 1691.0 MB)\n",
      "(epoch: 20/50): (train loss: 0.0328, test loss: 0.0580, train acc: 98.91%, test acc: 98.45%)\n",
      "(gpu memory profile): (average allocated: 401.0 MB, average reserved: 1691.0 MB)\n",
      "(epoch: 30/50): (train loss: 0.0228, test loss: 0.0621, train acc: 99.22%, test acc: 98.36%)\n",
      "(gpu memory profile): (average allocated: 401.0 MB, average reserved: 1691.0 MB)\n",
      "(epoch: 40/50): (train loss: 0.0159, test loss: 0.0532, train acc: 99.45%, test acc: 98.60%)\n",
      "(gpu memory profile): (average allocated: 401.0 MB, average reserved: 1691.0 MB)\n",
      "(epoch: 50/50): (train loss: 0.0135, test loss: 0.0637, train acc: 99.54%, test acc: 98.53%)\n",
      "(gpu memory profile): (average allocated: 401.0 MB, average reserved: 1691.0 MB)\n",
      "training complete\n",
      "train_losses saved to ../training/mnist-mini-batch-64.h5/metrics/train_losses\n",
      "test_losses saved to ../training/mnist-mini-batch-64.h5/metrics/test_losses\n",
      "train_accs saved to ../training/mnist-mini-batch-64.h5/metrics/train_accs\n",
      "test_accs saved to ../training/mnist-mini-batch-64.h5/metrics/test_accs\n"
     ]
    }
   ],
   "source": [
    "mini_batch_64_metrics = trainer.train()"
   ]
  },
  {
   "cell_type": "markdown",
   "id": "a975d719-b871-4316-9bc3-a28f73fac7d6",
   "metadata": {},
   "source": [
    "### Batch size 128"
   ]
  },
  {
   "cell_type": "code",
   "execution_count": 34,
   "id": "8dad6069-be6f-4357-a382-793050427d0e",
   "metadata": {},
   "outputs": [],
   "source": [
    "trainloader = data.DataLoader(\n",
    "    train_dataset,\n",
    "    batch_size=128,\n",
    "    shuffle=True,\n",
    "    drop_last=False,\n",
    "    collate_fn=collate_fn,\n",
    "    pin_memory=True,\n",
    "    num_workers=2,\n",
    ")"
   ]
  },
  {
   "cell_type": "code",
   "execution_count": 35,
   "id": "8197b7fb-004a-491a-aaf0-380ab662a4a6",
   "metadata": {},
   "outputs": [],
   "source": [
    "model = MLP()\n",
    "optim = torch.optim.SGD(model.parameters(), lr=lr)"
   ]
  },
  {
   "cell_type": "code",
   "execution_count": null,
   "id": "3edb9c42-6edc-47f0-97cc-71288ea4d3b6",
   "metadata": {},
   "outputs": [],
   "source": [
    "trainer = tnn.Trainer(\n",
    "    model,\n",
    "    optim,\n",
    "    loss_fn,\n",
    "    trainloader,\n",
    "    testloader,\n",
    "    epochs=50,\n",
    "    unpack_inputs=False,\n",
    "    device=device,\n",
    "    pin_memory=True,\n",
    "    non_blocking=True,\n",
    "    path=\"../training/mnist-mini-batch-128.h5\",\n",
    "    verbose=10,\n",
    ")"
   ]
  },
  {
   "cell_type": "code",
   "execution_count": 37,
   "id": "710c4d95-0b0a-4b42-814f-ab00afd79674",
   "metadata": {},
   "outputs": [
    {
     "name": "stdout",
     "output_type": "stream",
     "text": [
      "model using cuda\n",
      "training started\n",
      "(epoch: 10/50): (train loss: 0.0618, test loss: 0.0589, train acc: 97.99%, test acc: 98.23%)\n",
      "(gpu memory profile): (average allocated: 401.0 MB, average reserved: 1691.0 MB)\n",
      "(epoch: 20/50): (train loss: 0.0364, test loss: 0.0563, train acc: 98.78%, test acc: 98.19%)\n",
      "(gpu memory profile): (average allocated: 401.0 MB, average reserved: 1691.0 MB)\n",
      "(epoch: 30/50): (train loss: 0.0256, test loss: 0.0604, train acc: 99.12%, test acc: 98.44%)\n",
      "(gpu memory profile): (average allocated: 401.0 MB, average reserved: 1691.0 MB)\n",
      "(epoch: 40/50): (train loss: 0.0177, test loss: 0.0568, train acc: 99.39%, test acc: 98.56%)\n",
      "(gpu memory profile): (average allocated: 401.0 MB, average reserved: 1691.0 MB)\n",
      "(epoch: 50/50): (train loss: 0.0138, test loss: 0.0573, train acc: 99.51%, test acc: 98.54%)\n",
      "(gpu memory profile): (average allocated: 401.0 MB, average reserved: 1691.0 MB)\n",
      "training complete\n",
      "train_losses saved to ../training/mnist-mini-batch-128.h5/metrics/train_losses\n",
      "test_losses saved to ../training/mnist-mini-batch-128.h5/metrics/test_losses\n",
      "train_accs saved to ../training/mnist-mini-batch-128.h5/metrics/train_accs\n",
      "test_accs saved to ../training/mnist-mini-batch-128.h5/metrics/test_accs\n"
     ]
    }
   ],
   "source": [
    "mini_batch_128_metrics = trainer.train()"
   ]
  },
  {
   "cell_type": "markdown",
   "id": "be927494-3321-415a-b951-51b6f75b77de",
   "metadata": {},
   "source": [
    "### Batch size 256"
   ]
  },
  {
   "cell_type": "code",
   "execution_count": 38,
   "id": "0e170938-a64d-4e16-bfb5-b4b476f47c03",
   "metadata": {},
   "outputs": [],
   "source": [
    "trainloader = data.DataLoader(\n",
    "    train_dataset,\n",
    "    batch_size=256,\n",
    "    shuffle=True,\n",
    "    drop_last=False,\n",
    "    collate_fn=collate_fn,\n",
    "    pin_memory=True,\n",
    "    num_workers=2,\n",
    ")"
   ]
  },
  {
   "cell_type": "code",
   "execution_count": 39,
   "id": "a6dfdd79-5e7d-4946-a62b-2b418305c267",
   "metadata": {},
   "outputs": [],
   "source": [
    "model = MLP()\n",
    "optim = torch.optim.SGD(model.parameters(), lr=lr)"
   ]
  },
  {
   "cell_type": "code",
   "execution_count": null,
   "id": "1e3e6ad8-7a4f-4138-886a-34de0f340a12",
   "metadata": {},
   "outputs": [],
   "source": [
    "trainer = tnn.Trainer(\n",
    "    model,\n",
    "    optim,\n",
    "    loss_fn,\n",
    "    trainloader,\n",
    "    testloader,\n",
    "    epochs=50,\n",
    "    unpack_inputs=False,\n",
    "    device=device,\n",
    "    pin_memory=True,\n",
    "    non_blocking=True,\n",
    "    path=\"../training/mnist-mini-batch-256.h5\",\n",
    "    verbose=10,\n",
    ")"
   ]
  },
  {
   "cell_type": "code",
   "execution_count": 41,
   "id": "cfdb33bd-3a98-49da-bcea-7cc88c615c33",
   "metadata": {},
   "outputs": [
    {
     "name": "stdout",
     "output_type": "stream",
     "text": [
      "model using cuda\n",
      "training started\n",
      "(epoch: 10/50): (train loss: 0.0700, test loss: 0.0706, train acc: 97.73%, test acc: 97.85%)\n",
      "(gpu memory profile): (average allocated: 401.0 MB, average reserved: 1693.0 MB)\n",
      "(epoch: 20/50): (train loss: 0.0414, test loss: 0.0645, train acc: 98.57%, test acc: 98.16%)\n",
      "(gpu memory profile): (average allocated: 401.0 MB, average reserved: 1693.0 MB)\n",
      "(epoch: 30/50): (train loss: 0.0297, test loss: 0.0613, train acc: 98.98%, test acc: 98.35%)\n",
      "(gpu memory profile): (average allocated: 401.0 MB, average reserved: 1693.0 MB)\n",
      "(epoch: 40/50): (train loss: 0.0214, test loss: 0.0568, train acc: 99.26%, test acc: 98.46%)\n",
      "(gpu memory profile): (average allocated: 401.0 MB, average reserved: 1693.0 MB)\n",
      "(epoch: 50/50): (train loss: 0.0177, test loss: 0.0562, train acc: 99.42%, test acc: 98.60%)\n",
      "(gpu memory profile): (average allocated: 401.0 MB, average reserved: 1693.0 MB)\n",
      "training complete\n",
      "train_losses saved to ../training/mnist-mini-batch-256.h5/metrics/train_losses\n",
      "test_losses saved to ../training/mnist-mini-batch-256.h5/metrics/test_losses\n",
      "train_accs saved to ../training/mnist-mini-batch-256.h5/metrics/train_accs\n",
      "test_accs saved to ../training/mnist-mini-batch-256.h5/metrics/test_accs\n"
     ]
    }
   ],
   "source": [
    "mini_batch_256_metrics = trainer.train()"
   ]
  },
  {
   "cell_type": "markdown",
   "id": "e314b2f4-2c98-4c15-b438-4cde3d51916e",
   "metadata": {},
   "source": [
    "### Batch size 512"
   ]
  },
  {
   "cell_type": "code",
   "execution_count": 42,
   "id": "a2b081d5-2d32-48d9-94db-21bedc5bafe1",
   "metadata": {},
   "outputs": [],
   "source": [
    "trainloader = data.DataLoader(\n",
    "    train_dataset,\n",
    "    batch_size=512,\n",
    "    shuffle=True,\n",
    "    drop_last=False,\n",
    "    collate_fn=collate_fn,\n",
    "    pin_memory=True,\n",
    "    num_workers=2,\n",
    ")"
   ]
  },
  {
   "cell_type": "code",
   "execution_count": 43,
   "id": "05768642-39da-48f3-ac19-337f0ce2c250",
   "metadata": {},
   "outputs": [],
   "source": [
    "model = MLP()\n",
    "optim = torch.optim.SGD(model.parameters(), lr=lr)"
   ]
  },
  {
   "cell_type": "code",
   "execution_count": null,
   "id": "3d5e13ec-9672-4720-83d9-fa96e56c6405",
   "metadata": {},
   "outputs": [],
   "source": [
    "trainer = tnn.Trainer(\n",
    "    model,\n",
    "    optim,\n",
    "    loss_fn,\n",
    "    trainloader,\n",
    "    testloader,\n",
    "    epochs=50,\n",
    "    unpack_inputs=False,\n",
    "    device=device,\n",
    "    pin_memory=True,\n",
    "    non_blocking=True,\n",
    "    path=\"../training/mnist-mini-batch-512.h5\",\n",
    "    verbose=10,\n",
    ")"
   ]
  },
  {
   "cell_type": "code",
   "execution_count": 45,
   "id": "4c2dd299-17fc-4795-9b7a-73d1a058e947",
   "metadata": {},
   "outputs": [
    {
     "name": "stdout",
     "output_type": "stream",
     "text": [
      "model using cuda\n",
      "training started\n",
      "(epoch: 10/50): (train loss: 0.0852, test loss: 0.1488, train acc: 97.33%, test acc: 95.85%)\n",
      "(gpu memory profile): (average allocated: 402.0 MB, average reserved: 1699.0 MB)\n",
      "(epoch: 20/50): (train loss: 0.0525, test loss: 0.0652, train acc: 98.24%, test acc: 98.15%)\n",
      "(gpu memory profile): (average allocated: 402.0 MB, average reserved: 1699.0 MB)\n",
      "(epoch: 30/50): (train loss: 0.0383, test loss: 0.0607, train acc: 98.72%, test acc: 98.25%)\n",
      "(gpu memory profile): (average allocated: 402.0 MB, average reserved: 1699.0 MB)\n",
      "(epoch: 40/50): (train loss: 0.0286, test loss: 0.0656, train acc: 99.03%, test acc: 98.26%)\n",
      "(gpu memory profile): (average allocated: 402.0 MB, average reserved: 1699.0 MB)\n",
      "(epoch: 50/50): (train loss: 0.0226, test loss: 0.0669, train acc: 99.25%, test acc: 98.33%)\n",
      "(gpu memory profile): (average allocated: 402.0 MB, average reserved: 1699.0 MB)\n",
      "training complete\n",
      "train_losses saved to ../training/mnist-mini-batch-512.h5/metrics/train_losses\n",
      "test_losses saved to ../training/mnist-mini-batch-512.h5/metrics/test_losses\n",
      "train_accs saved to ../training/mnist-mini-batch-512.h5/metrics/train_accs\n",
      "test_accs saved to ../training/mnist-mini-batch-512.h5/metrics/test_accs\n"
     ]
    }
   ],
   "source": [
    "mini_batch_512_metrics = trainer.train()"
   ]
  }
 ],
 "metadata": {
  "kernelspec": {
   "display_name": "venv",
   "language": "python",
   "name": "python3"
  },
  "language_info": {
   "codemirror_mode": {
    "name": "ipython",
    "version": 3
   },
   "file_extension": ".py",
   "mimetype": "text/x-python",
   "name": "python",
   "nbconvert_exporter": "python",
   "pygments_lexer": "ipython3",
   "version": "3.12.4"
  }
 },
 "nbformat": 4,
 "nbformat_minor": 5
}
