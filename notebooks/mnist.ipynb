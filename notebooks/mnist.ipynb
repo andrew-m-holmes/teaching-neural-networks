{
 "cells": [
  {
   "cell_type": "code",
   "execution_count": null,
   "id": "571b0449-b5b7-4a9c-89cb-e0f8e12a61d2",
   "metadata": {},
   "outputs": [],
   "source": [
    "import numpy as np\n",
    "import tnn\n",
    "import torch\n",
    "import torch.nn as nn\n",
    "import torch.utils.data as data\n",
    "import torch.nn.functional as f\n",
    "\n",
    "from datasets import load_dataset\n",
    "\n",
    "device = (\n",
    "    \"cuda\"\n",
    "    if torch.cuda.is_available()\n",
    "    else \"mps\" if torch.backends.mps.is_available() else \"cpu\"\n",
    ")"
   ]
  },
  {
   "cell_type": "code",
   "execution_count": null,
   "id": "8b4608e2-139f-4dfc-8936-4f69c7b075f6",
   "metadata": {},
   "outputs": [],
   "source": [
    "dataset = load_dataset(\"ylecun/mnist\", num_proc=2)\n",
    "train_size = 60000\n",
    "test_size = 10000\n",
    "\n",
    "train = dataset.get(\"train\")\n",
    "test = dataset.get(\"test\")\n",
    "\n",
    "train_indices = np.random.choice(len(train), size=train_size, replace=False)\n",
    "test_indices = np.random.choice(len(test), size=test_size, replace=False)\n",
    "\n",
    "train = train.select(train_indices)\n",
    "test = test.select(test_indices)"
   ]
  },
  {
   "cell_type": "code",
   "execution_count": null,
   "id": "b48c375d-702b-4972-86c3-77e2c194dccf",
   "metadata": {},
   "outputs": [],
   "source": [
    "def to_numpy(example):\n",
    "    arr = np.reshape(example[\"image\"], -1) / 255.0\n",
    "    example[\"input\"] = arr\n",
    "    return example\n",
    "\n",
    "\n",
    "train_dataset = train.map(to_numpy, num_proc=2).select_columns([\"input\", \"label\"])\n",
    "test_dataset = test.map(to_numpy, num_proc=2).select_columns([\"input\", \"label\"])"
   ]
  },
  {
   "cell_type": "code",
   "execution_count": null,
   "id": "48769364-b4d3-421c-996a-cd55523d85a6",
   "metadata": {},
   "outputs": [],
   "source": [
    "def collate_fn(batch):\n",
    "    inputs = torch.tensor([ex[\"input\"] for ex in batch]).float()\n",
    "    labels = torch.tensor([ex[\"label\"] for ex in batch]).long()\n",
    "    return inputs, labels\n",
    "\n",
    "\n",
    "trainloader = data.DataLoader(\n",
    "    train_dataset,\n",
    "    batch_size=len(train_dataset),\n",
    "    shuffle=True,\n",
    "    drop_last=False,\n",
    "    collate_fn=collate_fn,\n",
    "    num_workers=2,\n",
    ")\n",
    "testloader = data.DataLoader(\n",
    "    test_dataset,\n",
    "    batch_size=len(test_dataset),\n",
    "    shuffle=False,\n",
    "    drop_last=False,\n",
    "    collate_fn=collate_fn,\n",
    "    num_workers=2,\n",
    ")"
   ]
  },
  {
   "cell_type": "code",
   "execution_count": null,
   "id": "a160b8da-2a9c-4a34-ab79-38e19e8af72e",
   "metadata": {},
   "outputs": [],
   "source": [
    "class MLP(nn.Module):\n",
    "\n",
    "    def __init__(self):\n",
    "        super().__init__()\n",
    "        self.linear_1 = nn.Linear(28 * 28, 512)\n",
    "        self.norm_1 = nn.LayerNorm(512)\n",
    "        self.drop_1 = nn.Dropout(0.4)\n",
    "        self.linear_2 = nn.Linear(512, 512)\n",
    "        self.norm_2 = nn.LayerNorm(512)\n",
    "        self.drop_2 = nn.Dropout(0.2)\n",
    "        self.linear_3 = nn.Linear(512, 512)\n",
    "        self.norm_3 = nn.LayerNorm(512)\n",
    "        self.linear_4 = nn.Linear(512, 10)\n",
    "\n",
    "    def forward(self, x):\n",
    "        x = self.norm_1(self.linear_1(x))\n",
    "        x = self.drop_1(f.relu(x))\n",
    "\n",
    "        x = self.norm_2(self.linear_2(x))\n",
    "        x = self.drop_2(f.relu(x))\n",
    "\n",
    "        x = self.norm_3(self.linear_3(x))\n",
    "        x = self.linear_4(f.relu(x))\n",
    "        return {\"logits\": x}"
   ]
  },
  {
   "cell_type": "markdown",
   "id": "b173cf89-c448-41a2-9ab1-f00385938714",
   "metadata": {},
   "source": [
    "## Batch Gradient Descent"
   ]
  },
  {
   "cell_type": "code",
   "execution_count": null,
   "id": "411e3fb2-cc90-443a-8bf0-cbaa8e76dfd2",
   "metadata": {},
   "outputs": [],
   "source": [
    "lr = 1e-1\n",
    "loss_fn = nn.CrossEntropyLoss()\n",
    "model = tnn.Model(MLP())\n",
    "optim = torch.optim.SGD(model.parameters(), lr=lr)"
   ]
  },
  {
   "cell_type": "code",
   "execution_count": null,
   "id": "34bbe022-f35b-4a62-ae98-ff29cdf9cd18",
   "metadata": {},
   "outputs": [],
   "source": [
    "trainer = tnn.Trainer(\n",
    "    model,\n",
    "    optim,\n",
    "    loss_fn,\n",
    "    trainloader,\n",
    "    testloader,\n",
    "    save_weights=False,\n",
    "    device=device,\n",
    "    path=\"../training/mnist-batch.h5\",\n",
    "    verbose=10,\n",
    ")"
   ]
  },
  {
   "cell_type": "code",
   "execution_count": null,
   "id": "5b78b981-c0bc-41c2-a3ae-fc9891613bfe",
   "metadata": {},
   "outputs": [],
   "source": [
    "batch_metrics = trainer.train(epochs=80)"
   ]
  },
  {
   "cell_type": "markdown",
   "id": "37b8dc8c-d3d5-4a37-8a61-897a24bcdab4",
   "metadata": {},
   "source": [
    "## Stochastic Gradient Descent"
   ]
  },
  {
   "cell_type": "code",
   "execution_count": null,
   "id": "ee414630-64a8-4c73-8b8f-08bfd911636a",
   "metadata": {},
   "outputs": [],
   "source": [
    "inputs = torch.tensor([ex[\"input\"] for ex in train_dataset]).float().to(device)\n",
    "labels = torch.tensor([ex[\"label\"] for ex in train_dataset]).long().to(device)\n",
    "train_tensor_dataset = data.TensorDataset(inputs, labels)\n",
    "\n",
    "trainloader = data.DataLoader(\n",
    "    train_tensor_dataset, batch_size=1, shuffle=True, drop_last=False\n",
    ")"
   ]
  },
  {
   "cell_type": "code",
   "execution_count": null,
   "id": "dd0f97d6-14d1-4eb7-b5a0-d2cc10bf8e24",
   "metadata": {},
   "outputs": [],
   "source": [
    "model = tnn.Model(MLP())\n",
    "optim = torch.optim.SGD(model.parameters(), lr=lr)"
   ]
  },
  {
   "cell_type": "code",
   "execution_count": null,
   "id": "8462c21b-e1b3-418a-bd72-31de88f65b83",
   "metadata": {},
   "outputs": [],
   "source": [
    "trainer = tnn.Trainer(\n",
    "    model,\n",
    "    optim,\n",
    "    loss_fn,\n",
    "    trainloader,\n",
    "    testloader,\n",
    "    save_weights=False,\n",
    "    device=device,\n",
    "    path=\"../training/mnist-sgd.h5\",\n",
    "    verbose=10,\n",
    ")"
   ]
  },
  {
   "cell_type": "code",
   "execution_count": null,
   "id": "fd46f0f7-ed7b-4431-9d6e-082fe64b53b1",
   "metadata": {},
   "outputs": [],
   "source": [
    "sgd_metrics = trainer.train(epochs=80)"
   ]
  },
  {
   "cell_type": "markdown",
   "id": "b6b4a9e4-11b5-4e76-aab7-028f73a8db59",
   "metadata": {},
   "source": [
    "## Mini-batch Gradient Descent"
   ]
  },
  {
   "cell_type": "markdown",
   "id": "7e929e07-d056-41ab-a1b2-92a4a8e47d86",
   "metadata": {},
   "source": [
    "### Batch size 32"
   ]
  },
  {
   "cell_type": "code",
   "execution_count": null,
   "id": "49995b56-5caf-4a6c-8955-05793915bd4a",
   "metadata": {},
   "outputs": [],
   "source": [
    "trainloader = data.DataLoader(\n",
    "    train_dataset,\n",
    "    batch_size=32,\n",
    "    shuffle=True,\n",
    "    drop_last=False,\n",
    "    collate_fn=collate_fn,\n",
    "    num_workers=2,\n",
    ")"
   ]
  },
  {
   "cell_type": "code",
   "execution_count": null,
   "id": "4297b6b4-08df-47ed-a0dd-fef070b6cb50",
   "metadata": {},
   "outputs": [],
   "source": [
    "model = tnn.Model(MLP())\n",
    "optim = torch.optim.SGD(model.parameters(), lr=lr)"
   ]
  },
  {
   "cell_type": "code",
   "execution_count": null,
   "id": "1a9c8eef-1331-4b68-b82b-775f43b9fc66",
   "metadata": {},
   "outputs": [],
   "source": [
    "trainer = tnn.Trainer(\n",
    "    model,\n",
    "    optim,\n",
    "    loss_fn,\n",
    "    trainloader,\n",
    "    testloader,\n",
    "    save_weights=False,\n",
    "    device=device,\n",
    "    path=\"../training/mnist-mini-batch-32.h5\",\n",
    "    verbose=10,\n",
    ")"
   ]
  },
  {
   "cell_type": "code",
   "execution_count": null,
   "id": "e32f905c-b486-4852-83ba-198c3c2d2703",
   "metadata": {},
   "outputs": [],
   "source": [
    "mini_batch_32_metrics = trainer.train(epochs=80)"
   ]
  },
  {
   "cell_type": "markdown",
   "id": "4bb0d8a5-468c-4412-93ba-58731be95d13",
   "metadata": {},
   "source": [
    "### Batch size 64"
   ]
  },
  {
   "cell_type": "code",
   "execution_count": null,
   "id": "267e59aa-2847-4eb0-8e66-0f574ef24fe8",
   "metadata": {},
   "outputs": [],
   "source": [
    "trainloader = data.DataLoader(\n",
    "    train_dataset,\n",
    "    batch_size=64,\n",
    "    shuffle=True,\n",
    "    drop_last=False,\n",
    "    collate_fn=collate_fn,\n",
    "    num_workers=2,\n",
    ")"
   ]
  },
  {
   "cell_type": "code",
   "execution_count": null,
   "id": "ec7b3df6-392c-4544-ac65-f32f76941c67",
   "metadata": {},
   "outputs": [],
   "source": [
    "model = tnn.Model(MLP())\n",
    "optim = torch.optim.SGD(model.parameters(), lr=lr)"
   ]
  },
  {
   "cell_type": "code",
   "execution_count": null,
   "id": "ae69ad59-b598-45d5-8983-921d8ae2ecfe",
   "metadata": {},
   "outputs": [],
   "source": [
    "trainer = tnn.Trainer(\n",
    "    model,\n",
    "    optim,\n",
    "    loss_fn,\n",
    "    trainloader,\n",
    "    testloader,\n",
    "    save_weights=False,\n",
    "    device=device,\n",
    "    path=\"../training/mnist-mini-batch-64.h5\",\n",
    "    verbose=10,\n",
    ")"
   ]
  },
  {
   "cell_type": "code",
   "execution_count": null,
   "id": "2694085b-6b60-420e-8e9b-6e287f41b2f7",
   "metadata": {},
   "outputs": [],
   "source": [
    "mini_batch_64_metrics = trainer.train(epochs=80)"
   ]
  },
  {
   "cell_type": "markdown",
   "id": "a975d719-b871-4316-9bc3-a28f73fac7d6",
   "metadata": {},
   "source": [
    "### Batch size 128"
   ]
  },
  {
   "cell_type": "code",
   "execution_count": null,
   "id": "8dad6069-be6f-4357-a382-793050427d0e",
   "metadata": {},
   "outputs": [],
   "source": [
    "trainloader = data.DataLoader(\n",
    "    train_dataset,\n",
    "    batch_size=128,\n",
    "    shuffle=True,\n",
    "    drop_last=False,\n",
    "    collate_fn=collate_fn,\n",
    "    num_workers=2,\n",
    ")"
   ]
  },
  {
   "cell_type": "code",
   "execution_count": null,
   "id": "8197b7fb-004a-491a-aaf0-380ab662a4a6",
   "metadata": {},
   "outputs": [],
   "source": [
    "model = tnn.Model(MLP())\n",
    "optim = torch.optim.SGD(model.parameters(), lr=lr)"
   ]
  },
  {
   "cell_type": "code",
   "execution_count": null,
   "id": "3edb9c42-6edc-47f0-97cc-71288ea4d3b6",
   "metadata": {},
   "outputs": [],
   "source": [
    "trainer = tnn.Trainer(\n",
    "    model,\n",
    "    optim,\n",
    "    loss_fn,\n",
    "    trainloader,\n",
    "    testloader,\n",
    "    save_weights=False,\n",
    "    device=device,\n",
    "    path=\"../training/mnist-mini-batch-128.h5\",\n",
    "    verbose=10,\n",
    ")"
   ]
  },
  {
   "cell_type": "code",
   "execution_count": null,
   "id": "710c4d95-0b0a-4b42-814f-ab00afd79674",
   "metadata": {},
   "outputs": [],
   "source": [
    "mini_batch_128_metrics = trainer.train(epochs=80)"
   ]
  },
  {
   "cell_type": "markdown",
   "id": "be927494-3321-415a-b951-51b6f75b77de",
   "metadata": {},
   "source": [
    "### Batch size 256"
   ]
  },
  {
   "cell_type": "code",
   "execution_count": null,
   "id": "0e170938-a64d-4e16-bfb5-b4b476f47c03",
   "metadata": {},
   "outputs": [],
   "source": [
    "trainloader = data.DataLoader(\n",
    "    train_dataset,\n",
    "    batch_size=256,\n",
    "    shuffle=True,\n",
    "    drop_last=False,\n",
    "    collate_fn=collate_fn,\n",
    "    num_workers=2,\n",
    ")"
   ]
  },
  {
   "cell_type": "code",
   "execution_count": null,
   "id": "a6dfdd79-5e7d-4946-a62b-2b418305c267",
   "metadata": {},
   "outputs": [],
   "source": [
    "model = tnn.Model(MLP())\n",
    "optim = torch.optim.SGD(model.parameters(), lr=lr)"
   ]
  },
  {
   "cell_type": "code",
   "execution_count": null,
   "id": "1e3e6ad8-7a4f-4138-886a-34de0f340a12",
   "metadata": {},
   "outputs": [],
   "source": [
    "trainer = tnn.Trainer(\n",
    "    model,\n",
    "    optim,\n",
    "    loss_fn,\n",
    "    trainloader,\n",
    "    testloader,\n",
    "    save_weights=False,\n",
    "    device=device,\n",
    "    path=\"../training/mnist-mini-batch-256.h5\",\n",
    "    verbose=10,\n",
    ")"
   ]
  },
  {
   "cell_type": "code",
   "execution_count": null,
   "id": "cfdb33bd-3a98-49da-bcea-7cc88c615c33",
   "metadata": {},
   "outputs": [],
   "source": [
    "mini_batch_256_metrics = trainer.train(epochs=80)"
   ]
  },
  {
   "cell_type": "markdown",
   "id": "e314b2f4-2c98-4c15-b438-4cde3d51916e",
   "metadata": {},
   "source": [
    "### Batch size 512"
   ]
  },
  {
   "cell_type": "code",
   "execution_count": null,
   "id": "a2b081d5-2d32-48d9-94db-21bedc5bafe1",
   "metadata": {},
   "outputs": [],
   "source": [
    "trainloader = data.DataLoader(\n",
    "    train_dataset,\n",
    "    batch_size=512,\n",
    "    shuffle=True,\n",
    "    drop_last=False,\n",
    "    collate_fn=collate_fn,\n",
    "    num_workers=2,\n",
    ")"
   ]
  },
  {
   "cell_type": "code",
   "execution_count": null,
   "id": "05768642-39da-48f3-ac19-337f0ce2c250",
   "metadata": {},
   "outputs": [],
   "source": [
    "model = tnn.Model(MLP())\n",
    "optim = torch.optim.SGD(model.parameters(), lr=lr)"
   ]
  },
  {
   "cell_type": "code",
   "execution_count": null,
   "id": "3d5e13ec-9672-4720-83d9-fa96e56c6405",
   "metadata": {},
   "outputs": [],
   "source": [
    "trainer = tnn.Trainer(\n",
    "    model,\n",
    "    optim,\n",
    "    loss_fn,\n",
    "    trainloader,\n",
    "    testloader,\n",
    "    save_weights=False,\n",
    "    device=device,\n",
    "    path=\"../training/mnist-mini-batch-512.h5\",\n",
    "    verbose=10,\n",
    ")"
   ]
  },
  {
   "cell_type": "code",
   "execution_count": null,
   "id": "4c2dd299-17fc-4795-9b7a-73d1a058e947",
   "metadata": {},
   "outputs": [],
   "source": [
    "mini_batch_512_metrics = trainer.train(epochs=80)"
   ]
  },
  {
   "cell_type": "markdown",
   "id": "a98ad3fc-4585-44bc-992d-906724cd4eec",
   "metadata": {},
   "source": [
    "## SGD w/ Momentum "
   ]
  },
  {
   "cell_type": "markdown",
   "id": "33db594b-d3f2-4558-b488-493a66acb040",
   "metadata": {},
   "source": [
    "### No Nesterov Accelerated Gradient"
   ]
  },
  {
   "cell_type": "code",
   "execution_count": null,
   "id": "0bed7203-b88a-43ea-8979-146df9839082",
   "metadata": {},
   "outputs": [],
   "source": [
    "trainloader = data.DataLoader(\n",
    "    train_dataset,\n",
    "    batch_size=32,\n",
    "    shuffle=True,\n",
    "    drop_last=False,\n",
    "    collate_fn=collate_fn,\n",
    "    num_workers=2,\n",
    ")"
   ]
  },
  {
   "cell_type": "code",
   "execution_count": null,
   "id": "a2f02b3b-1b17-488a-9406-c5ed1e7df7b2",
   "metadata": {},
   "outputs": [],
   "source": [
    "model = Model(MLP())\n",
    "optim = torch.optim.SGD(model.parameters(), lr=lr, momentum=0.9)"
   ]
  },
  {
   "cell_type": "code",
   "execution_count": null,
   "id": "a0223a66-ba75-4c4b-9211-e10cc66bf645",
   "metadata": {},
   "outputs": [],
   "source": [
    "trainer = tnn.Trainer(\n",
    "    model,\n",
    "    optim,\n",
    "    loss_fn,\n",
    "    trainloader,\n",
    "    testloader,\n",
    "    save_weights=False,\n",
    "    device=device,\n",
    "    path=\"../training/mnist-momentum-no-nag.h5\",\n",
    "    verbose=10,\n",
    ")"
   ]
  },
  {
   "cell_type": "code",
   "execution_count": null,
   "id": "42fe1a56-da1e-4628-bd03-108ad396fd65",
   "metadata": {},
   "outputs": [],
   "source": [
    "trainer.train(epochs=80)"
   ]
  },
  {
   "cell_type": "markdown",
   "id": "4dbee105-38cd-4f4a-8954-e5db775e6233",
   "metadata": {},
   "source": [
    "### With Nesterov Accelerated Gradient"
   ]
  },
  {
   "cell_type": "code",
   "execution_count": null,
   "id": "375842a5-0f30-4b93-bc54-aff17608aebc",
   "metadata": {},
   "outputs": [],
   "source": [
    "model = Model(MLP())\n",
    "optim = torch.optim.SGD(model.parameters(), lr=lr, momentum=0.9, nesterov=True)"
   ]
  },
  {
   "cell_type": "code",
   "execution_count": null,
   "id": "13be3c00-a84f-43ba-b9b0-d8dfc99ea617",
   "metadata": {},
   "outputs": [],
   "source": [
    "trainer = tnn.Trainer(\n",
    "    model,\n",
    "    optim,\n",
    "    loss_fn,\n",
    "    trainloader,\n",
    "    testloader,\n",
    "    save_weights=False,\n",
    "    device=device,\n",
    "    path=\"../training/mnist-momentum-nag.h5\",\n",
    "    verbose=10,\n",
    ")"
   ]
  },
  {
   "cell_type": "code",
   "execution_count": null,
   "id": "bc2183ea-defa-4e0c-8768-3e63e921e9f4",
   "metadata": {},
   "outputs": [],
   "source": [
    "trainer.train(epochs=80)"
   ]
  }
 ],
 "metadata": {
  "kernelspec": {
   "display_name": "Python 3 (ipykernel)",
   "language": "python",
   "name": "python3"
  },
  "language_info": {
   "codemirror_mode": {
    "name": "ipython",
    "version": 3
   },
   "file_extension": ".py",
   "mimetype": "text/x-python",
   "name": "python",
   "nbconvert_exporter": "python",
   "pygments_lexer": "ipython3",
   "version": "3.12.4"
  }
 },
 "nbformat": 4,
 "nbformat_minor": 5
}
