{
 "cells": [
  {
   "cell_type": "code",
   "execution_count": 1,
   "id": "36bda9a1-6884-4b87-b7da-55277b1cb170",
   "metadata": {},
   "outputs": [],
   "source": [
    "import numpy as np\n",
    "import tnn\n",
    "import torch\n",
    "import torch.nn as nn\n",
    "import torch.optim as optim\n",
    "import torch.utils.data as data\n",
    "import logging\n",
    "\n",
    "from datasets import load_dataset\n",
    "from transformers import AutoTokenizer, AutoModelForSequenceClassification\n",
    "\n",
    "device = (\n",
    "    \"cuda\"\n",
    "    if torch.cuda.is_available()\n",
    "    else \"mps\" if torch.backends.mps.is_available() else \"cpu\"\n",
    ")\n",
    "\n",
    "loggers = [logging.getLogger(name) for name in logging.root.manager.loggerDict]\n",
    "for logger in loggers:\n",
    "    if \"transformers\" in logger.name.lower():\n",
    "        logger.setLevel(logging.ERROR)"
   ]
  },
  {
   "cell_type": "code",
   "execution_count": 2,
   "id": "0f1805f1-f4cf-42ea-bb68-d4ebae44974a",
   "metadata": {},
   "outputs": [],
   "source": [
    "dataset = load_dataset(\"stanfordnlp/imdb\")\n",
    "train = dataset.get(\"train\")\n",
    "test = dataset.get(\"test\")"
   ]
  },
  {
   "cell_type": "code",
   "execution_count": 3,
   "id": "17b2a1da",
   "metadata": {},
   "outputs": [],
   "source": [
    "num_labels = len(train.unique(\"label\"))\n",
    "name = \"distilbert/distilbert-base-uncased\"\n",
    "tokenizer = AutoTokenizer.from_pretrained(name)"
   ]
  },
  {
   "cell_type": "code",
   "execution_count": 4,
   "id": "736f24ee",
   "metadata": {},
   "outputs": [],
   "source": [
    "def pre_process(examples):\n",
    "    examples = tokenizer(\n",
    "        examples[\"text\"],\n",
    "        max_length=512,\n",
    "        truncation=True,\n",
    "        padding=\"max_length\",\n",
    "    )\n",
    "    return examples\n",
    "\n",
    "\n",
    "train_dataset = train.map(\n",
    "    pre_process,\n",
    "    batched=True,\n",
    "    num_proc=2,\n",
    ")\n",
    "test_dataset = test.map(\n",
    "    pre_process,\n",
    "    batched=True,\n",
    "    num_proc=2,\n",
    ")"
   ]
  },
  {
   "cell_type": "code",
   "execution_count": 5,
   "id": "9b62974d",
   "metadata": {},
   "outputs": [],
   "source": [
    "def collate_fn(batch):\n",
    "    inputs = {\"input_ids\": [], \"attention_mask\": []}\n",
    "    labels = []\n",
    "    for example in batch:\n",
    "        inputs[\"input_ids\"].append(example[\"input_ids\"])\n",
    "        inputs[\"attention_mask\"].append(example[\"attention_mask\"])\n",
    "        labels.append(example[\"label\"])\n",
    "\n",
    "    inputs[\"input_ids\"] = torch.tensor(inputs[\"input_ids\"]).long()\n",
    "    inputs[\"attention_mask\"] = torch.tensor(inputs[\"attention_mask\"]).long()\n",
    "    labels = torch.tensor(labels).long()\n",
    "    return inputs, labels"
   ]
  },
  {
   "cell_type": "code",
   "execution_count": 6,
   "id": "82df0f3e",
   "metadata": {},
   "outputs": [],
   "source": [
    "trainloader = data.DataLoader(\n",
    "    train_dataset,\n",
    "    batch_size=32,\n",
    "    collate_fn=collate_fn,\n",
    "    drop_last=False,\n",
    "    shuffle=True,\n",
    "    pin_memory=True,\n",
    "    num_workers=2,\n",
    ")\n",
    "\n",
    "testloader = data.DataLoader(\n",
    "    test_dataset,\n",
    "    batch_size=32,\n",
    "    collate_fn=collate_fn,\n",
    "    drop_last=False,\n",
    "    shuffle=True,\n",
    "    pin_memory=True,\n",
    "    num_workers=2,\n",
    ")\n",
    "\n",
    "\n",
    "def to(inputs, labels, device, non_blocking):\n",
    "    inputs = dict(\n",
    "        map(\n",
    "            lambda item: (item[0], item[1].to(device, non_blocking=non_blocking)),\n",
    "            inputs.items(),\n",
    "        )\n",
    "    )\n",
    "    labels = labels.to(device, non_blocking=True)\n",
    "    return inputs, labels"
   ]
  },
  {
   "cell_type": "code",
   "execution_count": 7,
   "id": "7cfa0102-5255-4c62-bc66-c7d43179b30f",
   "metadata": {},
   "outputs": [],
   "source": [
    "lr = 5e-5\n",
    "weight_decay = 1e-4\n",
    "\n",
    "model = AutoModelForSequenceClassification.from_pretrained(name, num_labels=num_labels)\n",
    "optim = optim.SGD(model.parameters(), lr=lr, momentum=0.9, weight_decay=weight_decay)\n",
    "loss_fn = nn.CrossEntropyLoss()"
   ]
  },
  {
   "cell_type": "code",
   "execution_count": 8,
   "id": "400d89ba",
   "metadata": {},
   "outputs": [],
   "source": [
    "trainer = tnn.Trainer(\n",
    "    model,\n",
    "    optim,\n",
    "    loss_fn,\n",
    "    trainloader,\n",
    "    testloader,\n",
    "    epochs=3,\n",
    "    store_update_metrics=True,\n",
    "    unpack_inputs=True,\n",
    "    device=device,\n",
    "    to_fn=to,\n",
    "    path=\"../training/imdb-distil-bert-sgdm.h5\",\n",
    "    verbose=True,\n",
    "    profile=True,\n",
    "    logger_name=\"sgdm\"\n",
    ")"
   ]
  },
  {
   "cell_type": "code",
   "execution_count": 9,
   "id": "39b3b2e6",
   "metadata": {},
   "outputs": [
    {
     "name": "stdout",
     "output_type": "stream",
     "text": [
      "2024-12-18 19:52:20,922 - INFO - model using cuda\n",
      "2024-12-18 19:52:24,325 - INFO - training started\n",
      "2024-12-18 19:56:23,981 - INFO - (epoch: 1/3): (train loss: 0.6833, test loss: 0.6652, train acc: 59.72%, test acc: 79.36%)\n",
      "(gpu memory profile): (average allocated: 811.0 MB, average reserved: 5989.0 MB)\n",
      "(duration info): (epoch duration: 0:03:59, elapsed time: 0:03:59)\n",
      "2024-12-18 20:00:21,471 - INFO - (epoch: 2/3): (train loss: 0.5660, test loss: 0.3770, train acc: 80.46%, test acc: 86.30%)\n",
      "(gpu memory profile): (average allocated: 811.0 MB, average reserved: 5990.0 MB)\n",
      "(duration info): (epoch duration: 0:03:57, elapsed time: 0:07:57)\n",
      "2024-12-18 20:04:15,649 - INFO - (epoch: 3/3): (train loss: 0.3202, test loss: 0.2746, train acc: 87.52%, test acc: 88.82%)\n",
      "(gpu memory profile): (average allocated: 811.0 MB, average reserved: 5990.0 MB)\n",
      "(duration info): (epoch duration: 0:03:54, elapsed time: 0:11:51)\n",
      "2024-12-18 20:04:15,650 - INFO - training complete\n",
      "2024-12-18 20:04:15,651 - INFO - train_losses saved to ../training/imdb-distil-bert-sgdm.h5/metrics/train_losses\n",
      "2024-12-18 20:04:15,652 - INFO - test_losses saved to ../training/imdb-distil-bert-sgdm.h5/metrics/test_losses\n",
      "2024-12-18 20:04:15,652 - INFO - train_accs saved to ../training/imdb-distil-bert-sgdm.h5/metrics/train_accs\n",
      "2024-12-18 20:04:15,653 - INFO - test_accs saved to ../training/imdb-distil-bert-sgdm.h5/metrics/test_accs\n",
      "2024-12-18 20:04:15,653 - INFO - epoch_times saved to ../training/imdb-distil-bert-sgdm.h5/metrics/epoch_times\n",
      "2024-12-18 20:04:15,654 - INFO - update_train_losses saved to ../training/imdb-distil-bert-sgdm.h5/metrics/update_train_losses\n",
      "2024-12-18 20:04:15,654 - INFO - update_train_accs saved to ../training/imdb-distil-bert-sgdm.h5/metrics/update_train_accs\n",
      "2024-12-18 20:04:15,655 - INFO - update_times saved to ../training/imdb-distil-bert-sgdm.h5/metrics/update_times\n"
     ]
    }
   ],
   "source": [
    "sgdm_metrics = trainer.train()"
   ]
  }
 ],
 "metadata": {
  "kernelspec": {
   "display_name": "venv",
   "language": "python",
   "name": "python3"
  },
  "language_info": {
   "codemirror_mode": {
    "name": "ipython",
    "version": 3
   },
   "file_extension": ".py",
   "mimetype": "text/x-python",
   "name": "python",
   "nbconvert_exporter": "python",
   "pygments_lexer": "ipython3",
   "version": "3.12.4"
  }
 },
 "nbformat": 4,
 "nbformat_minor": 5
}
