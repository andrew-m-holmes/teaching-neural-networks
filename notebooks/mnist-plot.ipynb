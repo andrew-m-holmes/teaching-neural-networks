{
 "cells": [
  {
   "cell_type": "code",
   "execution_count": null,
   "id": "0298d971-df75-4c61-9a93-b025404f3959",
   "metadata": {},
   "outputs": [],
   "source": [
    "import tnn"
   ]
  },
  {
   "cell_type": "code",
   "execution_count": null,
   "id": "e4153d0e-25c5-467a-9d77-aa7581f87e7a",
   "metadata": {},
   "outputs": [],
   "source": [
    "batch_metrics = tnn.get_metrics_from_file(\"../training/mnist-batch.h5\")"
   ]
  },
  {
   "cell_type": "code",
   "execution_count": null,
   "id": "99d70c93-6517-4675-b652-a75eb0d854ed",
   "metadata": {},
   "outputs": [],
   "source": [
    "batch_losses = {\n",
    "    \"train\": batch_metrics.get(\"train_losses\"),\n",
    "    \"test\": batch_metrics.get(\"test_losses\"),\n",
    "}\n",
    "batch_accs = {\n",
    "    \"train\": batch_metrics.get(\"train_accs\"),\n",
    "    \"test\": batch_metrics.get(\"test_accs\"),\n",
    "}"
   ]
  },
  {
   "cell_type": "code",
   "execution_count": null,
   "id": "a1e7dc04-a046-46ee-b400-8559d4254996",
   "metadata": {},
   "outputs": [],
   "source": [
    "tnn.plot_metrics(metrics=batch_losses, path=\"../images/mnist-batch-loss.png\")"
   ]
  },
  {
   "cell_type": "code",
   "execution_count": null,
   "id": "b43e2076-4b9a-4547-ab8b-55f9a46181aa",
   "metadata": {},
   "outputs": [],
   "source": [
    "tnn.plot_metrics(\n",
    "    metrics=batch_accs, ylabel=\"accuracy\", path=\"../images/mnist-batch-acc.png\"\n",
    ")"
   ]
  },
  {
   "cell_type": "code",
   "execution_count": null,
   "id": "c4a27a37-0de9-4431-9927-c505225bcdd9",
   "metadata": {},
   "outputs": [],
   "source": [
    "sgd_metrics = tnn.get_metrics_from_file(\"../training/mnist-sgd.h5\")"
   ]
  },
  {
   "cell_type": "code",
   "execution_count": null,
   "id": "ab87b061-8faf-4eb0-8d9f-73e54394aad8",
   "metadata": {},
   "outputs": [],
   "source": [
    "sgd_losses = {\n",
    "    \"train\": sgd_metrics.get(\"train_losses\"),\n",
    "    \"test\": sgd_metrics.get(\"test_losses\"),\n",
    "}\n",
    "sgd_accs = {\n",
    "    \"train\": sgd_metrics.get(\"train_accs\"),\n",
    "    \"test\": sgd_metrics.get(\"test_accs\"),\n",
    "}"
   ]
  },
  {
   "cell_type": "code",
   "execution_count": null,
   "id": "ed581098-d265-48a5-a08c-9cb1e5b07a8c",
   "metadata": {},
   "outputs": [],
   "source": [
    "tnn.plot_metrics(metrics=sgd_losses, path=\"../images/mnist-sgd-loss.png\")"
   ]
  },
  {
   "cell_type": "code",
   "execution_count": null,
   "id": "edf158ca-88bf-4da2-aeb3-e13b815bee19",
   "metadata": {},
   "outputs": [],
   "source": [
    "tnn.plot_metrics(metrics=sgd_accs, ylabel=\"accuracy\", path=\"../images/mnist-sgd-acc.png\")"
   ]
  },
  {
   "cell_type": "code",
   "execution_count": null,
   "id": "2c45773a-f6bd-4e66-8b3a-71303b4675f6",
   "metadata": {},
   "outputs": [],
   "source": [
    "mini_batch_metrics = tnn.get_metrics_from_file(\"../training/mnist-mini-batch-32.h5\")"
   ]
  },
  {
   "cell_type": "code",
   "execution_count": null,
   "id": "4de65a21-2405-49f0-b2a9-5f83919016ce",
   "metadata": {},
   "outputs": [],
   "source": [
    "mini_batch_32_losses = {\n",
    "    \"train\": mini_batch_metrics.get(\"train_losses\"),\n",
    "    \"test\": mini_batch_metrics.get(\"test_losses\"),\n",
    "}\n",
    "mini_batch_32_accs = {\n",
    "    \"train\": mini_batch_metrics.get(\"train_accs\"),\n",
    "    \"test\": mini_batch_metrics.get(\"test_accs\"),\n",
    "}"
   ]
  },
  {
   "cell_type": "code",
   "execution_count": null,
   "id": "7cf39a77-d79a-400c-b930-2c6fcf4e9498",
   "metadata": {},
   "outputs": [],
   "source": [
    "tnn.plot_metrics(\n",
    "    metrics=mini_batch_32_losses, path=\"../images/mnist-mini-batch-32-loss.png\"\n",
    ")"
   ]
  },
  {
   "cell_type": "code",
   "execution_count": null,
   "id": "bfa1ac02-9081-448f-9aa1-1117583932f6",
   "metadata": {},
   "outputs": [],
   "source": [
    "tnn.plot_metrics(\n",
    "    metrics=mini_batch_32_accs,\n",
    "    ylabel=\"accuracy\",\n",
    "    path=\"../images/mnist-mini-batch-32-acc.png\",\n",
    ")"
   ]
  }
 ],
 "metadata": {
  "kernelspec": {
   "display_name": "Python 3 (ipykernel)",
   "language": "python",
   "name": "python3"
  },
  "language_info": {
   "codemirror_mode": {
    "name": "ipython",
    "version": 3
   },
   "file_extension": ".py",
   "mimetype": "text/x-python",
   "name": "python",
   "nbconvert_exporter": "python",
   "pygments_lexer": "ipython3",
   "version": "3.12.4"
  }
 },
 "nbformat": 4,
 "nbformat_minor": 5
}
