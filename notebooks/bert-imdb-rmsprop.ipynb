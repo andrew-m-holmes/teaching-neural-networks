{
 "cells": [
  {
   "cell_type": "code",
   "execution_count": 1,
   "id": "36bda9a1-6884-4b87-b7da-55277b1cb170",
   "metadata": {},
   "outputs": [],
   "source": [
    "import numpy as np\n",
    "import tnn\n",
    "import torch\n",
    "import torch.nn as nn\n",
    "import torch.optim as optim\n",
    "import torch.utils.data as data\n",
    "import logging\n",
    "\n",
    "from datasets import load_dataset\n",
    "from transformers import AutoTokenizer, AutoModelForSequenceClassification\n",
    "\n",
    "device = (\n",
    "    \"cuda\"\n",
    "    if torch.cuda.is_available()\n",
    "    else \"mps\" if torch.backends.mps.is_available() else \"cpu\"\n",
    ")\n",
    "\n",
    "loggers = [logging.getLogger(name) for name in logging.root.manager.loggerDict]\n",
    "for logger in loggers:\n",
    "    if \"transformers\" in logger.name.lower():\n",
    "        logger.setLevel(logging.ERROR)"
   ]
  },
  {
   "cell_type": "code",
   "execution_count": 2,
   "id": "0f1805f1-f4cf-42ea-bb68-d4ebae44974a",
   "metadata": {},
   "outputs": [],
   "source": [
    "dataset = load_dataset(\"stanfordnlp/imdb\")\n",
    "train = dataset.get(\"train\")\n",
    "test = dataset.get(\"test\")"
   ]
  },
  {
   "cell_type": "code",
   "execution_count": 3,
   "id": "17b2a1da",
   "metadata": {},
   "outputs": [],
   "source": [
    "num_labels = len(train.unique(\"label\"))\n",
    "name = \"distilbert/distilbert-base-uncased\"\n",
    "tokenizer = AutoTokenizer.from_pretrained(name)"
   ]
  },
  {
   "cell_type": "code",
   "execution_count": 4,
   "id": "736f24ee",
   "metadata": {},
   "outputs": [],
   "source": [
    "def pre_process(examples):\n",
    "    examples = tokenizer(\n",
    "        examples[\"text\"],\n",
    "        max_length=512,\n",
    "        truncation=True,\n",
    "        padding=\"max_length\",\n",
    "    )\n",
    "    return examples\n",
    "\n",
    "\n",
    "train_dataset = train.map(\n",
    "    pre_process,\n",
    "    batched=True,\n",
    "    num_proc=2,\n",
    ")\n",
    "test_dataset = test.map(\n",
    "    pre_process,\n",
    "    batched=True,\n",
    "    num_proc=2,\n",
    ")"
   ]
  },
  {
   "cell_type": "code",
   "execution_count": 5,
   "id": "9b62974d",
   "metadata": {},
   "outputs": [],
   "source": [
    "def collate_fn(batch):\n",
    "    inputs = {\"input_ids\": [], \"attention_mask\": []}\n",
    "    labels = []\n",
    "    for example in batch:\n",
    "        inputs[\"input_ids\"].append(example[\"input_ids\"])\n",
    "        inputs[\"attention_mask\"].append(example[\"attention_mask\"])\n",
    "        labels.append(example[\"label\"])\n",
    "\n",
    "    inputs[\"input_ids\"] = torch.tensor(inputs[\"input_ids\"]).long()\n",
    "    inputs[\"attention_mask\"] = torch.tensor(inputs[\"attention_mask\"]).long()\n",
    "    labels = torch.tensor(labels).long()\n",
    "    return inputs, labels"
   ]
  },
  {
   "cell_type": "code",
   "execution_count": 6,
   "id": "82df0f3e",
   "metadata": {},
   "outputs": [],
   "source": [
    "trainloader = data.DataLoader(\n",
    "    train_dataset,\n",
    "    batch_size=32,\n",
    "    collate_fn=collate_fn,\n",
    "    drop_last=False,\n",
    "    shuffle=True,\n",
    "    pin_memory=True,\n",
    "    num_workers=2,\n",
    ")\n",
    "\n",
    "testloader = data.DataLoader(\n",
    "    test_dataset,\n",
    "    batch_size=32,\n",
    "    collate_fn=collate_fn,\n",
    "    drop_last=False,\n",
    "    shuffle=True,\n",
    "    pin_memory=True,\n",
    "    num_workers=2,\n",
    ")\n",
    "\n",
    "\n",
    "def to(inputs, labels, device, non_blocking):\n",
    "    inputs = dict(\n",
    "        map(\n",
    "            lambda item: (item[0], item[1].to(device, non_blocking=non_blocking)),\n",
    "            inputs.items(),\n",
    "        )\n",
    "    )\n",
    "    labels = labels.to(device, non_blocking=True)\n",
    "    return inputs, labels"
   ]
  },
  {
   "cell_type": "code",
   "execution_count": 7,
   "id": "7cfa0102-5255-4c62-bc66-c7d43179b30f",
   "metadata": {},
   "outputs": [],
   "source": [
    "lr = 5e-5\n",
    "weight_decay = 1e-4\n",
    "eps=1e-8\n",
    "\n",
    "model = AutoModelForSequenceClassification.from_pretrained(name, num_labels=num_labels)\n",
    "optim = optim.RMSprop(model.parameters(), lr=lr, alpha=0.99, weight_decay=weight_decay, eps=eps)\n",
    "loss_fn = nn.CrossEntropyLoss()"
   ]
  },
  {
   "cell_type": "code",
   "execution_count": null,
   "id": "400d89ba",
   "metadata": {},
   "outputs": [],
   "source": [
    "trainer = tnn.Trainer(\n",
    "    model,\n",
    "    optim,\n",
    "    loss_fn,\n",
    "    trainloader,\n",
    "    testloader,\n",
    "    epochs=10,\n",
    "    store_iter_metrics=True,\n",
    "    unpack_inputs=True,\n",
    "    device=device,\n",
    "    to_fn=to,\n",
    "    path=\"../training/imdb-distil-bert-rmsprop.h5\",\n",
    "    verbose=True,\n",
    "    profile=True,\n",
    ")"
   ]
  },
  {
   "cell_type": "code",
   "execution_count": 9,
   "id": "39b3b2e6",
   "metadata": {},
   "outputs": [
    {
     "name": "stdout",
     "output_type": "stream",
     "text": [
      "model using cuda\n",
      "training started\n",
      "(epoch: 1/10): (train loss: 0.3709, test loss: 0.4706, train acc: 81.27%, test acc: 83.10%)\n",
      "(gpu memory profile): (average allocated: 810.0 MB, average reserved: 5951.0 MB)\n",
      "(duration info): (epoch duration: 0:03:52, elapsed time: 0:03:52)\n",
      "(epoch: 2/10): (train loss: 0.1749, test loss: 0.5445, train acc: 93.52%, test acc: 74.52%)\n",
      "(gpu memory profile): (average allocated: 810.0 MB, average reserved: 5951.0 MB)\n",
      "(duration info): (epoch duration: 0:03:51, elapsed time: 0:07:43)\n",
      "(epoch: 3/10): (train loss: 0.0962, test loss: 0.2130, train acc: 96.73%, test acc: 91.69%)\n",
      "(gpu memory profile): (average allocated: 810.0 MB, average reserved: 5951.0 MB)\n",
      "(duration info): (epoch duration: 0:03:50, elapsed time: 0:11:34)\n",
      "(epoch: 4/10): (train loss: 0.0575, test loss: 0.3421, train acc: 98.22%, test acc: 90.71%)\n",
      "(gpu memory profile): (average allocated: 810.0 MB, average reserved: 5951.0 MB)\n",
      "(duration info): (epoch duration: 0:03:51, elapsed time: 0:15:25)\n",
      "(epoch: 5/10): (train loss: 0.0415, test loss: 0.3473, train acc: 98.75%, test acc: 91.24%)\n",
      "(gpu memory profile): (average allocated: 810.0 MB, average reserved: 5951.0 MB)\n",
      "(duration info): (epoch duration: 0:03:50, elapsed time: 0:19:16)\n",
      "(epoch: 6/10): (train loss: 0.0352, test loss: 0.3716, train acc: 98.97%, test acc: 90.65%)\n",
      "(gpu memory profile): (average allocated: 810.0 MB, average reserved: 5951.0 MB)\n",
      "(duration info): (epoch duration: 0:03:50, elapsed time: 0:23:07)\n",
      "(epoch: 7/10): (train loss: 0.0336, test loss: 0.3857, train acc: 99.04%, test acc: 89.99%)\n",
      "(gpu memory profile): (average allocated: 810.0 MB, average reserved: 5951.0 MB)\n",
      "(duration info): (epoch duration: 0:03:50, elapsed time: 0:26:58)\n",
      "(epoch: 8/10): (train loss: 0.0288, test loss: 0.4417, train acc: 99.14%, test acc: 89.98%)\n",
      "(gpu memory profile): (average allocated: 810.0 MB, average reserved: 5951.0 MB)\n",
      "(duration info): (epoch duration: 0:03:50, elapsed time: 0:30:49)\n",
      "(epoch: 9/10): (train loss: 0.0287, test loss: 0.4684, train acc: 99.11%, test acc: 89.75%)\n",
      "(gpu memory profile): (average allocated: 810.0 MB, average reserved: 5951.0 MB)\n",
      "(duration info): (epoch duration: 0:03:50, elapsed time: 0:34:40)\n",
      "(epoch: 10/10): (train loss: 0.0247, test loss: 0.4648, train acc: 99.26%, test acc: 90.36%)\n",
      "(gpu memory profile): (average allocated: 810.0 MB, average reserved: 5951.0 MB)\n",
      "(duration info): (epoch duration: 0:03:51, elapsed time: 0:38:31)\n",
      "training complete\n",
      "train_losses saved to ../training/imdb-distil-bert-rmsprop.h5/metrics/train_losses\n",
      "test_losses saved to ../training/imdb-distil-bert-rmsprop.h5/metrics/test_losses\n",
      "train_accs saved to ../training/imdb-distil-bert-rmsprop.h5/metrics/train_accs\n",
      "test_accs saved to ../training/imdb-distil-bert-rmsprop.h5/metrics/test_accs\n",
      "epoch_times saved to ../training/imdb-distil-bert-rmsprop.h5/metrics/epoch_times\n"
     ]
    }
   ],
   "source": [
    "rmsprop_metrics = trainer.train()"
   ]
  }
 ],
 "metadata": {
  "kernelspec": {
   "display_name": "venv",
   "language": "python",
   "name": "python3"
  },
  "language_info": {
   "codemirror_mode": {
    "name": "ipython",
    "version": 3
   },
   "file_extension": ".py",
   "mimetype": "text/x-python",
   "name": "python",
   "nbconvert_exporter": "python",
   "pygments_lexer": "ipython3",
   "version": "3.12.4"
  }
 },
 "nbformat": 4,
 "nbformat_minor": 5
}
