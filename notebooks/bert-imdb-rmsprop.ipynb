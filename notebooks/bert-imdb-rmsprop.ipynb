{
 "cells": [
  {
   "cell_type": "code",
   "execution_count": 1,
   "id": "36bda9a1-6884-4b87-b7da-55277b1cb170",
   "metadata": {},
   "outputs": [],
   "source": [
    "import tnn\n",
    "import torch\n",
    "import torch.nn as nn\n",
    "import torch.optim as optim\n",
    "import torch.utils.data as data\n",
    "import logging\n",
    "\n",
    "from datasets import load_dataset\n",
    "from transformers import AutoTokenizer, AutoModelForSequenceClassification\n",
    "\n",
    "device = (\n",
    "    \"cuda\"\n",
    "    if torch.cuda.is_available()\n",
    "    else \"mps\" if torch.backends.mps.is_available() else \"cpu\"\n",
    ")\n",
    "\n",
    "loggers = [logging.getLogger(name) for name in logging.root.manager.loggerDict]\n",
    "for logger in loggers:\n",
    "    if \"transformers\" in logger.name.lower():\n",
    "        logger.setLevel(logging.ERROR)"
   ]
  },
  {
   "cell_type": "code",
   "execution_count": 2,
   "id": "0f1805f1-f4cf-42ea-bb68-d4ebae44974a",
   "metadata": {},
   "outputs": [],
   "source": [
    "dataset = load_dataset(\"stanfordnlp/imdb\")\n",
    "train = dataset.get(\"train\")\n",
    "test = dataset.get(\"test\")"
   ]
  },
  {
   "cell_type": "code",
   "execution_count": 3,
   "id": "17b2a1da",
   "metadata": {},
   "outputs": [],
   "source": [
    "num_labels = len(train.unique(\"label\"))\n",
    "name = \"distilbert/distilbert-base-uncased\"\n",
    "tokenizer = AutoTokenizer.from_pretrained(name)"
   ]
  },
  {
   "cell_type": "code",
   "execution_count": 4,
   "id": "736f24ee",
   "metadata": {},
   "outputs": [],
   "source": [
    "def pre_process(examples):\n",
    "    examples = tokenizer(\n",
    "        examples[\"text\"],\n",
    "        max_length=512,\n",
    "        truncation=True,\n",
    "        padding=\"max_length\",\n",
    "    )\n",
    "    return examples\n",
    "\n",
    "\n",
    "train_dataset = train.map(\n",
    "    pre_process,\n",
    "    batched=True,\n",
    "    num_proc=2,\n",
    ")\n",
    "test_dataset = test.map(\n",
    "    pre_process,\n",
    "    batched=True,\n",
    "    num_proc=2,\n",
    ")"
   ]
  },
  {
   "cell_type": "code",
   "execution_count": 5,
   "id": "9b62974d",
   "metadata": {},
   "outputs": [],
   "source": [
    "def collate_fn(batch):\n",
    "    inputs = {\"input_ids\": [], \"attention_mask\": []}\n",
    "    labels = []\n",
    "    for example in batch:\n",
    "        inputs[\"input_ids\"].append(example[\"input_ids\"])\n",
    "        inputs[\"attention_mask\"].append(example[\"attention_mask\"])\n",
    "        labels.append(example[\"label\"])\n",
    "\n",
    "    inputs[\"input_ids\"] = torch.tensor(inputs[\"input_ids\"]).long()\n",
    "    inputs[\"attention_mask\"] = torch.tensor(inputs[\"attention_mask\"]).long()\n",
    "    labels = torch.tensor(labels).long()\n",
    "    return inputs, labels"
   ]
  },
  {
   "cell_type": "code",
   "execution_count": 6,
   "id": "82df0f3e",
   "metadata": {},
   "outputs": [],
   "source": [
    "trainloader = data.DataLoader(\n",
    "    train_dataset,\n",
    "    batch_size=32,\n",
    "    collate_fn=collate_fn,\n",
    "    drop_last=False,\n",
    "    shuffle=True,\n",
    "    pin_memory=True,\n",
    "    num_workers=2,\n",
    ")\n",
    "\n",
    "testloader = data.DataLoader(\n",
    "    test_dataset,\n",
    "    batch_size=32,\n",
    "    collate_fn=collate_fn,\n",
    "    drop_last=False,\n",
    "    shuffle=True,\n",
    "    pin_memory=True,\n",
    "    num_workers=2,\n",
    ")\n",
    "\n",
    "\n",
    "def to(inputs, labels, device, non_blocking):\n",
    "    inputs = dict(\n",
    "        map(\n",
    "            lambda item: (item[0], item[1].to(device, non_blocking=non_blocking)),\n",
    "            inputs.items(),\n",
    "        )\n",
    "    )\n",
    "    labels = labels.to(device, non_blocking=True)\n",
    "    return inputs, labels"
   ]
  },
  {
   "cell_type": "code",
   "execution_count": 7,
   "id": "7cfa0102-5255-4c62-bc66-c7d43179b30f",
   "metadata": {},
   "outputs": [],
   "source": [
    "lr = 5e-5\n",
    "weight_decay = 1e-4\n",
    "eps=1e-8\n",
    "\n",
    "model = AutoModelForSequenceClassification.from_pretrained(name, num_labels=num_labels)\n",
    "optim = optim.RMSprop(model.parameters(), lr=lr, alpha=0.99, weight_decay=weight_decay, eps=eps)\n",
    "loss_fn = nn.CrossEntropyLoss()"
   ]
  },
  {
   "cell_type": "code",
   "execution_count": 8,
   "id": "400d89ba",
   "metadata": {},
   "outputs": [],
   "source": [
    "trainer = tnn.Trainer(\n",
    "    model,\n",
    "    optim,\n",
    "    loss_fn,\n",
    "    trainloader,\n",
    "    testloader,\n",
    "    epochs=3,\n",
    "    store_update_metrics=True,\n",
    "    unpack_inputs=True,\n",
    "    device=device,\n",
    "    to_fn=to,\n",
    "    path=\"../training/imdb-distil-bert-rmsprop.h5\",\n",
    "    verbose=True,\n",
    "    profile=True,\n",
    "    logger_name=\"rmsprop\"\n",
    ")"
   ]
  },
  {
   "cell_type": "code",
   "execution_count": 9,
   "id": "39b3b2e6",
   "metadata": {},
   "outputs": [
    {
     "name": "stdout",
     "output_type": "stream",
     "text": [
      "2024-11-29 15:34:33,699 - INFO - model using cuda\n",
      "2024-11-29 15:34:42,005 - INFO - training started\n",
      "2024-11-29 15:39:46,077 - INFO - (epoch: 1/3): (train loss: 0.4307, test loss: 0.3608, train acc: 77.72%, test acc: 84.85%)\n",
      "(gpu memory profile): (average allocated: 809.0 MB, average reserved: 5979.0 MB)\n",
      "(duration info): (epoch duration: 0:05:04, elapsed time: 0:05:04)\n",
      "2024-11-29 15:44:49,633 - INFO - (epoch: 2/3): (train loss: 0.2326, test loss: 0.3044, train acc: 91.14%, test acc: 87.44%)\n",
      "(gpu memory profile): (average allocated: 809.0 MB, average reserved: 5980.0 MB)\n",
      "(duration info): (epoch duration: 0:05:03, elapsed time: 0:10:07)\n",
      "2024-11-29 15:49:53,369 - INFO - (epoch: 3/3): (train loss: 0.1474, test loss: 0.2915, train acc: 94.80%, test acc: 89.21%)\n",
      "(gpu memory profile): (average allocated: 809.0 MB, average reserved: 5980.0 MB)\n",
      "(duration info): (epoch duration: 0:05:03, elapsed time: 0:15:11)\n",
      "2024-11-29 15:49:53,371 - INFO - training complete\n",
      "2024-11-29 15:49:53,374 - INFO - train_losses saved to ../training/imdb-distil-bert-rmsprop.h5/metrics/train_losses\n",
      "2024-11-29 15:49:53,375 - INFO - test_losses saved to ../training/imdb-distil-bert-rmsprop.h5/metrics/test_losses\n",
      "2024-11-29 15:49:53,376 - INFO - train_accs saved to ../training/imdb-distil-bert-rmsprop.h5/metrics/train_accs\n",
      "2024-11-29 15:49:53,377 - INFO - test_accs saved to ../training/imdb-distil-bert-rmsprop.h5/metrics/test_accs\n",
      "2024-11-29 15:49:53,378 - INFO - epoch_times saved to ../training/imdb-distil-bert-rmsprop.h5/metrics/epoch_times\n",
      "2024-11-29 15:49:53,379 - INFO - update_train_losses saved to ../training/imdb-distil-bert-rmsprop.h5/metrics/update_train_losses\n",
      "2024-11-29 15:49:53,380 - INFO - update_train_accs saved to ../training/imdb-distil-bert-rmsprop.h5/metrics/update_train_accs\n",
      "2024-11-29 15:49:53,381 - INFO - update_times saved to ../training/imdb-distil-bert-rmsprop.h5/metrics/update_times\n"
     ]
    }
   ],
   "source": [
    "rmsprop_metrics = trainer.train()"
   ]
  }
 ],
 "metadata": {
  "kernelspec": {
   "display_name": "venv",
   "language": "python",
   "name": "python3"
  },
  "language_info": {
   "codemirror_mode": {
    "name": "ipython",
    "version": 3
   },
   "file_extension": ".py",
   "mimetype": "text/x-python",
   "name": "python",
   "nbconvert_exporter": "python",
   "pygments_lexer": "ipython3",
   "version": "3.10.12"
  }
 },
 "nbformat": 4,
 "nbformat_minor": 5
}
