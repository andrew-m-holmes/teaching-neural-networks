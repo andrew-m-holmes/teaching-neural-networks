{
 "cells": [
  {
   "cell_type": "code",
   "execution_count": null,
   "id": "328f216a-5480-4eff-8191-f4a71e14699a",
   "metadata": {},
   "outputs": [],
   "source": [
    "import tnn\n",
    "import torch\n",
    "import torch.nn as nn\n",
    "import logging\n",
    "\n",
    "from datasets import load_dataset\n",
    "from transformers import AutoTokenizer, AutoModelForSequenceClassification\n",
    "\n",
    "device = (\n",
    "    \"cuda\"\n",
    "    if torch.cuda.is_available()\n",
    "    else \"mps\" if torch.backends.mps.is_available() else \"cpu\"\n",
    ")\n",
    "\n",
    "loggers = [logging.getLogger(name) for name in logging.root.manager.loggerDict]\n",
    "for logger in loggers:\n",
    "    if \"transformers\" in logger.name.lower():\n",
    "        logger.setLevel(logging.ERROR)"
   ]
  },
  {
   "cell_type": "code",
   "execution_count": null,
   "id": "7fbdd456-501d-44b5-a13e-4ff0d068fa1f",
   "metadata": {},
   "outputs": [],
   "source": [
    "dataset = load_dataset(\"stanfordnlp/imdb\")\n",
    "test = dataset[\"test\"]"
   ]
  },
  {
   "cell_type": "code",
   "execution_count": null,
   "id": "06de7676-3ec6-4a9d-918d-ec0f2f8224c7",
   "metadata": {},
   "outputs": [],
   "source": [
    "num_labels = len(train.unique(\"label\"))\n",
    "name = \"distilbert/distilbert-base-cased\"\n",
    "tokenizer = AutoTokenizer.from_pretrained(name)"
   ]
  },
  {
   "cell_type": "code",
   "execution_count": null,
   "id": "281e0a5c-480b-4c47-9cbd-4eb33d85bd23",
   "metadata": {},
   "outputs": [],
   "source": [
    "def pre_process(examples):\n",
    "    examples = tokenizer(\n",
    "        examples[\"text\"],\n",
    "        max_length=512,\n",
    "        truncation=True,\n",
    "        padding=\"max_length\",\n",
    "    )\n",
    "    return examples\n",
    "\n",
    "\n",
    "train_dataset = train.map(\n",
    "    pre_process,\n",
    "    batched=True,\n",
    "    num_proc=2,\n",
    ")\n",
    "test_dataset = test.map(\n",
    "    pre_process,\n",
    "    batched=True,\n",
    "    num_proc=2,\n",
    ")"
   ]
  },
  {
   "cell_type": "code",
   "execution_count": null,
   "id": "226970b1-445c-4bf5-8a97-f37e973211c9",
   "metadata": {},
   "outputs": [],
   "source": [
    "def collate_fn(batch):\n",
    "    inputs = {\"input_ids\": [], \"attention_mask\": []}\n",
    "    labels = []\n",
    "    for example in batch:\n",
    "        inputs[\"input_ids\"].append(example[\"input_ids\"])\n",
    "        inputs[\"attention_mask\"].append(example[\"attention_mask\"])\n",
    "        labels.append(example[\"label\"])\n",
    "\n",
    "    inputs[\"input_ids\"] = torch.tensor(inputs[\"input_ids\"]).long()\n",
    "    inputs[\"attention_mask\"] = torch.tensor(inputs[\"attention_mask\"]).long()\n",
    "    labels = torch.tensor(labels).long()\n",
    "    return inputs, labels"
   ]
  },
  {
   "cell_type": "code",
   "execution_count": null,
   "id": "84320c95-0c2f-4886-828f-da462be8d4cc",
   "metadata": {},
   "outputs": [],
   "source": [
    "testloader = data.DataLoader(\n",
    "    test_dataset,\n",
    "    batch_size=32,\n",
    "    collate_fn=collate_fn,\n",
    "    drop_last=False,\n",
    "    shuffle=False,\n",
    "    pin_memory=True,\n",
    "    num_workers=2,\n",
    ")\n",
    "\n",
    "\n",
    "def to(inputs, labels, device, non_blocking):\n",
    "    inputs = dict(\n",
    "        map(\n",
    "            lambda item: (item[0], item[1].to(device, non_blocking=non_blocking)),\n",
    "            inputs.items(),\n",
    "        )\n",
    "    )\n",
    "    labels = labels.to(device, non_blocking=True)\n",
    "    return inputs, labels"
   ]
  },
  {
   "cell_type": "code",
   "execution_count": null,
   "id": "6155b833-8799-4e87-9b4f-ec76a39f3b1b",
   "metadata": {},
   "outputs": [],
   "source": [
    "class DistilBert(tnn.Model):\n",
    "\n",
    "    def __init__(self, name, num_labels):\n",
    "        super().__init__()\n",
    "        self.distil_roberta = AutoModelForSequenceClassification.from_pretrained(\n",
    "            name, num_labels=num_labels\n",
    "        )\n",
    "\n",
    "    def forward(self, **inputs):\n",
    "        return self.distil_roberta(**inputs)"
   ]
  },
  {
   "cell_type": "code",
   "execution_count": null,
   "id": "86fad764-569f-418e-987b-a43b1c62a127",
   "metadata": {},
   "outputs": [],
   "source": [
    "model = DistilBert(name=name, num_labels=num_labels)\n",
    "loss_fn = nn.CrossEntropyLoss()"
   ]
  },
  {
   "cell_type": "code",
   "execution_count": null,
   "id": "c9af0949-1ef2-491e-9d8b-a465b41ce309",
   "metadata": {},
   "outputs": [],
   "source": [
    "landscape = tnn.Landscape.from_file(\n",
    "    trainer_path=\"../training/imdb-bert-cls-base.h5\",\n",
    "    model=model,\n",
    "    loss_fn=loss_fn,\n",
    "    eval_dataloader=testloader,\n",
    "    device=device,\n",
    "    path=\"../images/bert-cls-base-landscape.h5\",\n",
    "    verbose=5,\n",
    ")"
   ]
  },
  {
   "cell_type": "code",
   "execution_count": null,
   "id": "98884558-01d7-42cd-938a-d79756acf627",
   "metadata": {},
   "outputs": [],
   "source": [
    "meshgrid_dict = landscape.create_meshgrid(\n",
    "    start=-1.0,\n",
    "    stop=1.0,\n",
    "    step=10.0,\n",
    "    use_logspcae=False,\n",
    "    mode=\"pca\",\n",
    ")"
   ]
  }
 ],
 "metadata": {
  "kernelspec": {
   "display_name": "venv",
   "language": "python",
   "name": "python3"
  },
  "language_info": {
   "codemirror_mode": {
    "name": "ipython",
    "version": 3
   },
   "file_extension": ".py",
   "mimetype": "text/x-python",
   "name": "python",
   "nbconvert_exporter": "python",
   "pygments_lexer": "ipython3",
   "version": "3.12.4"
  }
 },
 "nbformat": 4,
 "nbformat_minor": 5
}
